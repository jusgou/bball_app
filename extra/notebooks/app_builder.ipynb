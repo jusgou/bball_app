{
 "cells": [
  {
   "cell_type": "code",
   "execution_count": 46,
   "id": "cae6e0ef-b390-41e4-bde6-05ff52c75d88",
   "metadata": {},
   "outputs": [],
   "source": [
    "import dash\n",
    "from dash import Dash, dcc, html\n",
    "from dash.dependencies import Input, Output\n",
    "import pandas as pd\n",
    "import numpy as np\n",
    "import re \n",
    "import requests"
   ]
  },
  {
   "cell_type": "code",
   "execution_count": 47,
   "id": "5948a22e-b4e6-4af2-9162-88106f914b4a",
   "metadata": {},
   "outputs": [],
   "source": [
    "from _NBAModelSchedule import get_todays_games\n",
    "from _NBAModelTeamsDivisions import process_league_standings"
   ]
  },
  {
   "cell_type": "code",
   "execution_count": 48,
   "id": "95fd7d72-a92d-470f-a529-8bc7f1dbb4b4",
   "metadata": {},
   "outputs": [
    {
     "name": "stdout",
     "output_type": "stream",
     "text": [
      "Number of teams fetched: 30\n"
     ]
    }
   ],
   "source": [
    "%run _NBAModelTeamsDivisions.py"
   ]
  },
  {
   "cell_type": "markdown",
   "id": "60d24867-fd07-4ad7-82e8-855d60650587",
   "metadata": {},
   "source": [
    "# Schedule"
   ]
  },
  {
   "cell_type": "code",
   "execution_count": 49,
   "id": "5249f02b-8e77-453a-849b-ffcd14302fb6",
   "metadata": {},
   "outputs": [],
   "source": [
    "nba_schedule_df = pd.read_csv('nbaSchedule24.csv')"
   ]
  },
  {
   "cell_type": "code",
   "execution_count": 50,
   "id": "795d100d-6288-4d5d-a51a-c052950d39ae",
   "metadata": {},
   "outputs": [],
   "source": [
    "def get_todays_games(df, today):\n",
    "    todays_games=df[df[\"Game Date\"] == today]\n",
    "    return todays_games"
   ]
  },
  {
   "cell_type": "code",
   "execution_count": 51,
   "id": "7f6d4913-a060-4da0-b5c7-c00470977d63",
   "metadata": {},
   "outputs": [],
   "source": [
    "todays_games = get_todays_games(nba_schedule_df, '2024-10-22')"
   ]
  },
  {
   "cell_type": "code",
   "execution_count": 52,
   "id": "28e3d052-d2ff-4601-9237-bb28dfab5ff8",
   "metadata": {},
   "outputs": [
    {
     "data": {
      "text/html": [
       "<div>\n",
       "<style scoped>\n",
       "    .dataframe tbody tr th:only-of-type {\n",
       "        vertical-align: middle;\n",
       "    }\n",
       "\n",
       "    .dataframe tbody tr th {\n",
       "        vertical-align: top;\n",
       "    }\n",
       "\n",
       "    .dataframe thead th {\n",
       "        text-align: right;\n",
       "    }\n",
       "</style>\n",
       "<table border=\"1\" class=\"dataframe\">\n",
       "  <thead>\n",
       "    <tr style=\"text-align: right;\">\n",
       "      <th></th>\n",
       "      <th>Game Date</th>\n",
       "      <th>Game ID</th>\n",
       "      <th>Game Time</th>\n",
       "      <th>Arena</th>\n",
       "      <th>Arena City</th>\n",
       "      <th>Home Team Abbreviation</th>\n",
       "      <th>Home Conference</th>\n",
       "      <th>Home Division</th>\n",
       "      <th>Visiting Team Abbreviation</th>\n",
       "      <th>Visiting Conference</th>\n",
       "      <th>Visiting Division</th>\n",
       "      <th>Divisional Game</th>\n",
       "      <th>Conference Game</th>\n",
       "    </tr>\n",
       "  </thead>\n",
       "  <tbody>\n",
       "    <tr>\n",
       "      <th>0</th>\n",
       "      <td>2024-10-22</td>\n",
       "      <td>22400061</td>\n",
       "      <td>7:30 pm ET</td>\n",
       "      <td>TD Garden</td>\n",
       "      <td>Boston</td>\n",
       "      <td>BOS</td>\n",
       "      <td>East</td>\n",
       "      <td>Atlantic</td>\n",
       "      <td>NYK</td>\n",
       "      <td>East</td>\n",
       "      <td>Atlantic</td>\n",
       "      <td>Yes</td>\n",
       "      <td>Yes</td>\n",
       "    </tr>\n",
       "    <tr>\n",
       "      <th>1</th>\n",
       "      <td>2024-10-22</td>\n",
       "      <td>22400062</td>\n",
       "      <td>10:00 pm ET</td>\n",
       "      <td>Crypto.com Arena</td>\n",
       "      <td>Los Angeles</td>\n",
       "      <td>LAL</td>\n",
       "      <td>West</td>\n",
       "      <td>Pacific</td>\n",
       "      <td>MIN</td>\n",
       "      <td>West</td>\n",
       "      <td>Northwest</td>\n",
       "      <td>No</td>\n",
       "      <td>Yes</td>\n",
       "    </tr>\n",
       "  </tbody>\n",
       "</table>\n",
       "</div>"
      ],
      "text/plain": [
       "    Game Date   Game ID    Game Time             Arena   Arena City  \\\n",
       "0  2024-10-22  22400061   7:30 pm ET         TD Garden       Boston   \n",
       "1  2024-10-22  22400062  10:00 pm ET  Crypto.com Arena  Los Angeles   \n",
       "\n",
       "  Home Team Abbreviation Home Conference Home Division  \\\n",
       "0                    BOS            East      Atlantic   \n",
       "1                    LAL            West       Pacific   \n",
       "\n",
       "  Visiting Team Abbreviation Visiting Conference Visiting Division  \\\n",
       "0                        NYK                East          Atlantic   \n",
       "1                        MIN                West         Northwest   \n",
       "\n",
       "  Divisional Game Conference Game  \n",
       "0             Yes             Yes  \n",
       "1              No             Yes  "
      ]
     },
     "execution_count": 52,
     "metadata": {},
     "output_type": "execute_result"
    }
   ],
   "source": [
    "todays_games"
   ]
  },
  {
   "cell_type": "markdown",
   "id": "e1bb7d69-45d0-4f8d-86f5-423737cf9e4c",
   "metadata": {},
   "source": [
    "# Standings"
   ]
  },
  {
   "cell_type": "code",
   "execution_count": 53,
   "id": "59e11ef2-0a25-4076-b358-da2bc1fe5574",
   "metadata": {},
   "outputs": [],
   "source": [
    "# Assuming process_league_standings is already defined\n",
    "standings_df = process_league_standings('2024-25', 'Regular Season')"
   ]
  },
  {
   "cell_type": "code",
   "execution_count": null,
   "id": "3c723a18-709a-40d4-9be1-5ccb1ecd414b",
   "metadata": {},
   "outputs": [],
   "source": []
  },
  {
   "cell_type": "markdown",
   "id": "3c9181bc-c20f-4376-b5ed-54e23f669c16",
   "metadata": {},
   "source": [
    "# Teams"
   ]
  },
  {
   "cell_type": "code",
   "execution_count": 60,
   "id": "bf2b0ee5-fd15-4249-8971-0a93d38abd2f",
   "metadata": {},
   "outputs": [],
   "source": [
    "from _NBAModelTeamsDivisions import process_league_standings, season_standings"
   ]
  },
  {
   "cell_type": "code",
   "execution_count": 61,
   "id": "506b3287-76fe-45ae-81bd-8fad551537dd",
   "metadata": {},
   "outputs": [
    {
     "ename": "ImportError",
     "evalue": "cannot import name 'NBATeamData' from '_NBAModelTeamsDivisions' (C:\\Users\\justi\\Documents\\__ballAnalytics\\bball\\NBAModel\\_NBAModelTeamsDivisions.py)",
     "output_type": "error",
     "traceback": [
      "\u001b[1;31m---------------------------------------------------------------------------\u001b[0m",
      "\u001b[1;31mImportError\u001b[0m                               Traceback (most recent call last)",
      "Cell \u001b[1;32mIn[61], line 1\u001b[0m\n\u001b[1;32m----> 1\u001b[0m \u001b[38;5;28;01mfrom\u001b[39;00m \u001b[38;5;21;01m_NBAModelTeamsDivisions\u001b[39;00m \u001b[38;5;28;01mimport\u001b[39;00m NBATeamData\n",
      "\u001b[1;31mImportError\u001b[0m: cannot import name 'NBATeamData' from '_NBAModelTeamsDivisions' (C:\\Users\\justi\\Documents\\__ballAnalytics\\bball\\NBAModel\\_NBAModelTeamsDivisions.py)"
     ]
    }
   ],
   "source": [
    "from _NBAModelTeamsDivisions import NBATeamData"
   ]
  },
  {
   "cell_type": "code",
   "execution_count": null,
   "id": "7a2cae2e-c9ab-4883-bba7-84610bb25e6b",
   "metadata": {},
   "outputs": [],
   "source": [
    "# Create an instance of the class\n",
    "nba_data = NBATeamData()\n",
    "\n",
    "# Fetch the teams and print the DataFrame\n",
    "teams_df = nba_data.fetch_teams()\n",
    "print(teams_df.head())\n",
    "\n",
    "# Use another method from the class\n",
    "team_info = nba_data.get_team_by_abbreviation('LAL')\n",
    "print(team_info)\n"
   ]
  },
  {
   "cell_type": "markdown",
   "id": "692fb50b-d984-4ded-9d37-0de13cd7155a",
   "metadata": {},
   "source": [
    "# Create App"
   ]
  },
  {
   "cell_type": "code",
   "execution_count": 11,
   "id": "05f8072d-3e5d-4975-9aee-b9f51e0d5f34",
   "metadata": {},
   "outputs": [],
   "source": [
    "app = Dash(__name__, suppress_callback_exceptions=True)\n",
    "\n",
    "app.layout = html.Div([\n",
    "    dcc.Tabs([\n",
    "        dcc.Tab(label='Today\\'s Matchups', children=[\n",
    "            html.Div(id='todays-matchups')\n",
    "        ]),\n",
    "        dcc.Tab(label='Standings', children=[\n",
    "            html.Div(id='standings')\n",
    "        ]),\n",
    "        dcc.Tab(label='Matchup Analyzer', children=[\n",
    "            html.Div(id='matchup-analyzer')\n",
    "        ]),\n",
    "    ])\n",
    "])"
   ]
  },
  {
   "cell_type": "code",
   "execution_count": 12,
   "id": "540dcb00-37c1-491f-9f43-9fde5205b8c9",
   "metadata": {},
   "outputs": [],
   "source": [
    "# Callback to render today's matchups\n",
    "@app.callback(\n",
    "    Output('todays-matchups', 'children'),\n",
    "    Input('tabs', 'value')\n",
    ")\n",
    "def render_todays_matchups(tab):\n",
    "    today_date = '2025-01-01'  # Replace with dynamic date as needed\n",
    "    todays_games_df = get_todays_games(nba_schedule_df, today_date)\n",
    "    \n",
    "    return html.Table([\n",
    "        html.Tr([html.Th(col) for col in todays_games_df.columns])] +\n",
    "        [html.Tr([html.Td(todays_games_df.iloc[i][col]) for col in todays_games_df.columns])\n",
    "         for i in range(len(todays_games_df))]\n",
    "    )\n",
    "\n",
    "# Callback to render standings\n",
    "@app.callback(\n",
    "    Output('standings', 'children'),\n",
    "    Input('tabs', 'value')\n",
    ")\n",
    "def render_standings(tab):\n",
    "    return html.Table([\n",
    "        html.Tr([html.Th(col) for col in standings_df.columns])] +\n",
    "        [html.Tr([html.Td(standings_df.iloc[i][col]) for col in standings_df.columns])\n",
    "         for i in range(len(standings_df))]\n",
    "    )\n",
    "\n",
    "# Callback for the Matchup Analyzer (placeholder)\n",
    "@app.callback(\n",
    "    Output('matchup-analyzer', 'children'),\n",
    "    Input('tabs', 'value')\n",
    ")\n",
    "def render_matchup_analyzer(tab):\n",
    "    return html.Div([\n",
    "        html.H3('Matchup Analyzer will be developed here.')\n",
    "    ])"
   ]
  },
  {
   "cell_type": "code",
   "execution_count": 13,
   "id": "a984d24d-8371-4074-9e66-daac58df4d49",
   "metadata": {},
   "outputs": [
    {
     "data": {
      "text/html": [
       "\n",
       "        <iframe\n",
       "            width=\"100%\"\n",
       "            height=\"650\"\n",
       "            src=\"http://127.0.0.1:8050/\"\n",
       "            frameborder=\"0\"\n",
       "            allowfullscreen\n",
       "            \n",
       "        ></iframe>\n",
       "        "
      ],
      "text/plain": [
       "<IPython.lib.display.IFrame at 0x20836aebc40>"
      ]
     },
     "metadata": {},
     "output_type": "display_data"
    }
   ],
   "source": [
    "if __name__ == '__main__':\n",
    "    app.run_server(debug=True)"
   ]
  },
  {
   "cell_type": "code",
   "execution_count": null,
   "id": "22a11958-ba81-49e5-8242-e8625e11fa8c",
   "metadata": {},
   "outputs": [],
   "source": []
  }
 ],
 "metadata": {
  "kernelspec": {
   "display_name": "bball",
   "language": "python",
   "name": "bball"
  },
  "language_info": {
   "codemirror_mode": {
    "name": "ipython",
    "version": 3
   },
   "file_extension": ".py",
   "mimetype": "text/x-python",
   "name": "python",
   "nbconvert_exporter": "python",
   "pygments_lexer": "ipython3",
   "version": "3.10.13"
  }
 },
 "nbformat": 4,
 "nbformat_minor": 5
}
