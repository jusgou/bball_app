{
 "cells": [
  {
   "cell_type": "code",
   "execution_count": 54,
   "id": "2d87358b-f021-4550-8292-0df638c559f8",
   "metadata": {},
   "outputs": [],
   "source": [
    "import pandas as pd\n",
    "import matplotlib.pyplot as plt\n",
    "from classes import NBATeamRosters\n",
    "import matplotlib.pyplot as plt\n",
    "import matplotlib.dates as mdates\n",
    "import datetime\n",
    "import json"
   ]
  },
  {
   "cell_type": "code",
   "execution_count": 2,
   "id": "a8b1d565-7cdc-4669-b303-dba6ab2d0618",
   "metadata": {},
   "outputs": [],
   "source": [
    "import seaborn as sns"
   ]
  },
  {
   "cell_type": "code",
   "execution_count": 3,
   "id": "a387f531-010b-497c-a480-0f6e1099beff",
   "metadata": {},
   "outputs": [],
   "source": [
    "nba_data = NBATeamRosters(season=\"2024\")"
   ]
  },
  {
   "cell_type": "code",
   "execution_count": 4,
   "id": "af40ebe1-f001-4967-a4c8-91080e6c70aa",
   "metadata": {},
   "outputs": [],
   "source": [
    "# Fetch the list of teams\n",
    "#nba_data.fetch_teams()\n",
    "\n",
    "# Display the teams DataFrame\n",
    "#nba_data.teams_df\n"
   ]
  },
  {
   "cell_type": "markdown",
   "id": "24c6245c-e961-43b7-9047-d4936aabdc23",
   "metadata": {},
   "source": [
    "# Set Constants"
   ]
  },
  {
   "cell_type": "code",
   "execution_count": 41,
   "id": "ba19f39f-84e9-4d56-ac07-e2c9628b73dd",
   "metadata": {},
   "outputs": [],
   "source": [
    "pd.set_option('display.max_columns', None)\n",
    "pd.set_option('display.max_rows', None)"
   ]
  },
  {
   "cell_type": "code",
   "execution_count": 16,
   "id": "da49a9df-fc4f-4f1e-aa9f-15cfa7685b06",
   "metadata": {},
   "outputs": [],
   "source": [
    "# Define the previous season\n",
    "previous_season = \"2023-24\"\n",
    "current_season = \"2024-25\""
   ]
  },
  {
   "cell_type": "code",
   "execution_count": 27,
   "id": "64707f01-6ef4-464f-8d9e-7bee1598988d",
   "metadata": {},
   "outputs": [],
   "source": [
    "# Fetch Teams Master List \n",
    "nba_data.fetch_teams()\n",
    "teams_df = nba_data.teams_df"
   ]
  },
  {
   "cell_type": "markdown",
   "id": "1a6364cf-943d-4a5c-b517-a61166a97eae",
   "metadata": {},
   "source": [
    "# Load 2023-24 Season Static Data"
   ]
  },
  {
   "cell_type": "code",
   "execution_count": 62,
   "id": "f33d7a2e-63cb-49a2-9c9b-8c6e38951caa",
   "metadata": {},
   "outputs": [],
   "source": [
    "path1 = \"C:/Users/justi/Documents/__ballAnalytics/bball/NBAModel/data/league_player_stats_2023-24.json\"\n",
    "path2 = \"C:/Users/justi/Documents/__ballAnalytics/bball/NBAModel/data/player_career_stats_2023-24.json\"\n",
    "path3 = \"C:/Users/justi/Documents/__ballAnalytics/bball/NBAModel/data/team_estimated_metrics_2023-24.json\"\n",
    "path4 = \"C:/Users/justi/Documents/__ballAnalytics/bball/NBAModel/data/team_game_logs_2023-24.json\"\n",
    "path5 = \"C:/Users/justi/Documents/__ballAnalytics/bball/NBAModel/data/team_stats_2023-24.json\"\n",
    "path6 = \"C:/Users/justi/Documents/__ballAnalytics/bball/NBAModel/data/top_250_player_game_logs_2023_24.json\""
   ]
  },
  {
   "cell_type": "code",
   "execution_count": 87,
   "id": "b02da879-c856-46d1-8347-cee0738155a4",
   "metadata": {},
   "outputs": [],
   "source": [
    "with open(path1, 'r') as file:\n",
    "    data1 = json.load(file)\n",
    "with open(path2, 'r') as file:\n",
    "    data2 = json.load(file)\n",
    "with open(path3, 'r') as file:\n",
    "    data3 = json.load(file)\n",
    "with open(path4, 'r') as file:\n",
    "    data4 = json.load(file)\n",
    "with open(path5, 'r') as file:\n",
    "    data5 = json.load(file)\n",
    "with open(path6, 'r') as file:\n",
    "    data6 = json.load(file)"
   ]
  },
  {
   "cell_type": "code",
   "execution_count": null,
   "id": "c932ed5d-2470-4dd5-ab0b-908569cc0633",
   "metadata": {},
   "outputs": [],
   "source": [
    "team_stat_data = data5['"
   ]
  },
  {
   "cell_type": "code",
   "execution_count": null,
   "id": "af44b119-31d1-4c6f-930c-efa7ca6bb949",
   "metadata": {},
   "outputs": [],
   "source": []
  },
  {
   "cell_type": "code",
   "execution_count": null,
   "id": "3252f1e5-a937-4af1-aa7c-caecfe0094b4",
   "metadata": {},
   "outputs": [],
   "source": []
  },
  {
   "cell_type": "markdown",
   "id": "3a48f970-4fba-4c44-b728-6a51d16a63bc",
   "metadata": {},
   "source": [
    "# Schedule"
   ]
  },
  {
   "cell_type": "code",
   "execution_count": 5,
   "id": "7407b6be-0115-4648-81ad-61455e4d863c",
   "metadata": {},
   "outputs": [
    {
     "name": "stdout",
     "output_type": "stream",
     "text": [
      "Schedule loaded: 1200 games\n"
     ]
    }
   ],
   "source": [
    "# Load the schedule from your CSV file\n",
    "nba_data.load_schedule('nbaSchedule2425.csv')  # Replace with your actual CSV path"
   ]
  },
  {
   "cell_type": "code",
   "execution_count": 6,
   "id": "7e7b0f2a-5567-444f-9f3c-9a9aae662188",
   "metadata": {
    "scrolled": true
   },
   "outputs": [],
   "source": [
    "# Display the full schedule\n",
    "schedule_df = nba_data.get_full_schedule()"
   ]
  },
  {
   "cell_type": "markdown",
   "id": "8b6d57c2-e834-4ff4-a754-fa047beb8b4d",
   "metadata": {},
   "source": [
    "# Today's Games"
   ]
  },
  {
   "cell_type": "code",
   "execution_count": 11,
   "id": "faea3839-0467-41bd-92ae-d463b22bb714",
   "metadata": {},
   "outputs": [],
   "source": [
    "today_date = datetime.datetime.today().strftime('%Y-%m-%d')\n",
    "\n",
    "# Retrieve today's games\n",
    "todays_games = nba_data.get_todays_games(\"2024-10-23\") # Use today_date when in season"
   ]
  },
  {
   "cell_type": "code",
   "execution_count": 12,
   "id": "f3041ee9-7c17-441d-997a-59062eb32a68",
   "metadata": {},
   "outputs": [
    {
     "data": {
      "text/html": [
       "<div>\n",
       "<style scoped>\n",
       "    .dataframe tbody tr th:only-of-type {\n",
       "        vertical-align: middle;\n",
       "    }\n",
       "\n",
       "    .dataframe tbody tr th {\n",
       "        vertical-align: top;\n",
       "    }\n",
       "\n",
       "    .dataframe thead th {\n",
       "        text-align: right;\n",
       "    }\n",
       "</style>\n",
       "<table border=\"1\" class=\"dataframe\">\n",
       "  <thead>\n",
       "    <tr style=\"text-align: right;\">\n",
       "      <th></th>\n",
       "      <th>Game Date</th>\n",
       "      <th>Game ID</th>\n",
       "      <th>Game Time</th>\n",
       "      <th>Arena</th>\n",
       "      <th>Arena City</th>\n",
       "      <th>Home Team Abbreviation</th>\n",
       "      <th>Home Conference</th>\n",
       "      <th>Home Division</th>\n",
       "      <th>Visiting Team Abbreviation</th>\n",
       "      <th>Visiting Conference</th>\n",
       "      <th>Visiting Division</th>\n",
       "      <th>Divisional Game</th>\n",
       "      <th>Conference Game</th>\n",
       "      <th>Home Team ID</th>\n",
       "      <th>Visiting Team ID</th>\n",
       "    </tr>\n",
       "  </thead>\n",
       "  <tbody>\n",
       "    <tr>\n",
       "      <th>2</th>\n",
       "      <td>2024-10-23</td>\n",
       "      <td>22400067</td>\n",
       "      <td>7:30 pm ET</td>\n",
       "      <td>Scotiabank Arena</td>\n",
       "      <td>Toronto</td>\n",
       "      <td>TOR</td>\n",
       "      <td>East</td>\n",
       "      <td>Atlantic</td>\n",
       "      <td>CLE</td>\n",
       "      <td>East</td>\n",
       "      <td>Central</td>\n",
       "      <td>No</td>\n",
       "      <td>Yes</td>\n",
       "      <td>1610612761</td>\n",
       "      <td>1610612739</td>\n",
       "    </tr>\n",
       "    <tr>\n",
       "      <th>3</th>\n",
       "      <td>2024-10-23</td>\n",
       "      <td>22400072</td>\n",
       "      <td>10:00 pm ET</td>\n",
       "      <td>Moda Center</td>\n",
       "      <td>Portland</td>\n",
       "      <td>POR</td>\n",
       "      <td>West</td>\n",
       "      <td>Northwest</td>\n",
       "      <td>GSW</td>\n",
       "      <td>West</td>\n",
       "      <td>Pacific</td>\n",
       "      <td>No</td>\n",
       "      <td>Yes</td>\n",
       "      <td>1610612757</td>\n",
       "      <td>1610612744</td>\n",
       "    </tr>\n",
       "    <tr>\n",
       "      <th>4</th>\n",
       "      <td>2024-10-23</td>\n",
       "      <td>22400071</td>\n",
       "      <td>10:00 pm ET</td>\n",
       "      <td>Intuit Dome</td>\n",
       "      <td>Inglewood</td>\n",
       "      <td>LAC</td>\n",
       "      <td>West</td>\n",
       "      <td>Pacific</td>\n",
       "      <td>PHX</td>\n",
       "      <td>West</td>\n",
       "      <td>Pacific</td>\n",
       "      <td>Yes</td>\n",
       "      <td>Yes</td>\n",
       "      <td>1610612746</td>\n",
       "      <td>1610612756</td>\n",
       "    </tr>\n",
       "    <tr>\n",
       "      <th>5</th>\n",
       "      <td>2024-10-23</td>\n",
       "      <td>22400070</td>\n",
       "      <td>9:00 pm ET</td>\n",
       "      <td>Delta Center</td>\n",
       "      <td>Salt Lake City</td>\n",
       "      <td>UTA</td>\n",
       "      <td>West</td>\n",
       "      <td>Northwest</td>\n",
       "      <td>MEM</td>\n",
       "      <td>West</td>\n",
       "      <td>Southwest</td>\n",
       "      <td>No</td>\n",
       "      <td>Yes</td>\n",
       "      <td>1610612762</td>\n",
       "      <td>1610612763</td>\n",
       "    </tr>\n",
       "    <tr>\n",
       "      <th>6</th>\n",
       "      <td>2024-10-23</td>\n",
       "      <td>22400066</td>\n",
       "      <td>7:30 pm ET</td>\n",
       "      <td>Wells Fargo Center</td>\n",
       "      <td>Philadelphia</td>\n",
       "      <td>PHI</td>\n",
       "      <td>East</td>\n",
       "      <td>Atlantic</td>\n",
       "      <td>MIL</td>\n",
       "      <td>East</td>\n",
       "      <td>Central</td>\n",
       "      <td>No</td>\n",
       "      <td>Yes</td>\n",
       "      <td>1610612755</td>\n",
       "      <td>1610612749</td>\n",
       "    </tr>\n",
       "    <tr>\n",
       "      <th>7</th>\n",
       "      <td>2024-10-23</td>\n",
       "      <td>22400068</td>\n",
       "      <td>8:00 pm ET</td>\n",
       "      <td>Toyota Center</td>\n",
       "      <td>Houston</td>\n",
       "      <td>HOU</td>\n",
       "      <td>West</td>\n",
       "      <td>Southwest</td>\n",
       "      <td>CHA</td>\n",
       "      <td>East</td>\n",
       "      <td>Southeast</td>\n",
       "      <td>No</td>\n",
       "      <td>No</td>\n",
       "      <td>1610612745</td>\n",
       "      <td>1610612766</td>\n",
       "    </tr>\n",
       "    <tr>\n",
       "      <th>8</th>\n",
       "      <td>2024-10-23</td>\n",
       "      <td>22400065</td>\n",
       "      <td>7:30 pm ET</td>\n",
       "      <td>Kaseya Center</td>\n",
       "      <td>Miami</td>\n",
       "      <td>MIA</td>\n",
       "      <td>East</td>\n",
       "      <td>Southeast</td>\n",
       "      <td>ORL</td>\n",
       "      <td>East</td>\n",
       "      <td>Southeast</td>\n",
       "      <td>Yes</td>\n",
       "      <td>Yes</td>\n",
       "      <td>1610612748</td>\n",
       "      <td>1610612753</td>\n",
       "    </tr>\n",
       "    <tr>\n",
       "      <th>9</th>\n",
       "      <td>2024-10-23</td>\n",
       "      <td>22400064</td>\n",
       "      <td>7:30 pm ET</td>\n",
       "      <td>State Farm Arena</td>\n",
       "      <td>Atlanta</td>\n",
       "      <td>ATL</td>\n",
       "      <td>East</td>\n",
       "      <td>Southeast</td>\n",
       "      <td>BKN</td>\n",
       "      <td>East</td>\n",
       "      <td>Atlantic</td>\n",
       "      <td>No</td>\n",
       "      <td>Yes</td>\n",
       "      <td>1610612737</td>\n",
       "      <td>1610612751</td>\n",
       "    </tr>\n",
       "    <tr>\n",
       "      <th>10</th>\n",
       "      <td>2024-10-23</td>\n",
       "      <td>22400069</td>\n",
       "      <td>8:00 pm ET</td>\n",
       "      <td>Smoothie King Center</td>\n",
       "      <td>New Orleans</td>\n",
       "      <td>NOP</td>\n",
       "      <td>West</td>\n",
       "      <td>Southwest</td>\n",
       "      <td>CHI</td>\n",
       "      <td>East</td>\n",
       "      <td>Central</td>\n",
       "      <td>No</td>\n",
       "      <td>No</td>\n",
       "      <td>1610612740</td>\n",
       "      <td>1610612741</td>\n",
       "    </tr>\n",
       "    <tr>\n",
       "      <th>11</th>\n",
       "      <td>2024-10-23</td>\n",
       "      <td>22400063</td>\n",
       "      <td>7:00 pm ET</td>\n",
       "      <td>Little Caesars Arena</td>\n",
       "      <td>Detroit</td>\n",
       "      <td>DET</td>\n",
       "      <td>East</td>\n",
       "      <td>Central</td>\n",
       "      <td>IND</td>\n",
       "      <td>East</td>\n",
       "      <td>Central</td>\n",
       "      <td>Yes</td>\n",
       "      <td>Yes</td>\n",
       "      <td>1610612765</td>\n",
       "      <td>1610612754</td>\n",
       "    </tr>\n",
       "  </tbody>\n",
       "</table>\n",
       "</div>"
      ],
      "text/plain": [
       "     Game Date   Game ID    Game Time                 Arena      Arena City  \\\n",
       "2   2024-10-23  22400067   7:30 pm ET      Scotiabank Arena         Toronto   \n",
       "3   2024-10-23  22400072  10:00 pm ET           Moda Center        Portland   \n",
       "4   2024-10-23  22400071  10:00 pm ET           Intuit Dome       Inglewood   \n",
       "5   2024-10-23  22400070   9:00 pm ET          Delta Center  Salt Lake City   \n",
       "6   2024-10-23  22400066   7:30 pm ET    Wells Fargo Center    Philadelphia   \n",
       "7   2024-10-23  22400068   8:00 pm ET         Toyota Center         Houston   \n",
       "8   2024-10-23  22400065   7:30 pm ET         Kaseya Center           Miami   \n",
       "9   2024-10-23  22400064   7:30 pm ET      State Farm Arena         Atlanta   \n",
       "10  2024-10-23  22400069   8:00 pm ET  Smoothie King Center     New Orleans   \n",
       "11  2024-10-23  22400063   7:00 pm ET  Little Caesars Arena         Detroit   \n",
       "\n",
       "   Home Team Abbreviation Home Conference Home Division  \\\n",
       "2                     TOR            East      Atlantic   \n",
       "3                     POR            West     Northwest   \n",
       "4                     LAC            West       Pacific   \n",
       "5                     UTA            West     Northwest   \n",
       "6                     PHI            East      Atlantic   \n",
       "7                     HOU            West     Southwest   \n",
       "8                     MIA            East     Southeast   \n",
       "9                     ATL            East     Southeast   \n",
       "10                    NOP            West     Southwest   \n",
       "11                    DET            East       Central   \n",
       "\n",
       "   Visiting Team Abbreviation Visiting Conference Visiting Division  \\\n",
       "2                         CLE                East           Central   \n",
       "3                         GSW                West           Pacific   \n",
       "4                         PHX                West           Pacific   \n",
       "5                         MEM                West         Southwest   \n",
       "6                         MIL                East           Central   \n",
       "7                         CHA                East         Southeast   \n",
       "8                         ORL                East         Southeast   \n",
       "9                         BKN                East          Atlantic   \n",
       "10                        CHI                East           Central   \n",
       "11                        IND                East           Central   \n",
       "\n",
       "   Divisional Game Conference Game  Home Team ID  Visiting Team ID  \n",
       "2               No             Yes    1610612761        1610612739  \n",
       "3               No             Yes    1610612757        1610612744  \n",
       "4              Yes             Yes    1610612746        1610612756  \n",
       "5               No             Yes    1610612762        1610612763  \n",
       "6               No             Yes    1610612755        1610612749  \n",
       "7               No              No    1610612745        1610612766  \n",
       "8              Yes             Yes    1610612748        1610612753  \n",
       "9               No             Yes    1610612737        1610612751  \n",
       "10              No              No    1610612740        1610612741  \n",
       "11             Yes             Yes    1610612765        1610612754  "
      ]
     },
     "execution_count": 12,
     "metadata": {},
     "output_type": "execute_result"
    }
   ],
   "source": [
    "todays_games"
   ]
  },
  {
   "cell_type": "markdown",
   "id": "478aff08-bd0d-4c6d-a1d8-bf15a5180721",
   "metadata": {},
   "source": [
    "# Team Rosters"
   ]
  },
  {
   "cell_type": "code",
   "execution_count": 29,
   "id": "09fdacc1-6744-4b7f-9d9c-d90602374521",
   "metadata": {},
   "outputs": [],
   "source": [
    "g1_home_ros = nba_data.get_team_roster(\"BOS\")\n",
    "g1_away_ros = nba_data.get_team_roster(\"NYK\")\n",
    "g2_home_ros = nba_data.get_team_roster(\"LAL\")\n",
    "g2_away_ros = nba_data.get_team_roster(\"MIN\")\n",
    "#g3_home_ros = nba_data.get_team_roster(\"LAL\")\n",
    "#g3_away_ros = nba_data.get_team_roster(\"MIN\")\n",
    "#g4_home_ros = nba_data.get_team_roster(\"LAL\")\n",
    "#g4_away_ros = nba_data.get_team_roster(\"MIN\")\n",
    "#g5_home_ros = nba_data.get_team_roster(\"LAL\")\n",
    "#g5_away_ros = nba_data.get_team_roster(\"MIN\")\n",
    "#g6_home_ros = nba_data.get_team_roster(\"LAL\")\n",
    "#g6_away_ros = nba_data.get_team_roster(\"MIN\")\n",
    "#g7_home_ros = nba_data.get_team_roster(\"LAL\")\n",
    "#g7_away_ros = nba_data.get_team_roster(\"MIN\")\n",
    "#g8_home_ros = nba_data.get_team_roster(\"LAL\")\n",
    "#g8_away_ros = nba_data.get_team_roster(\"MIN\")\n",
    "#g9_home_ros = nba_data.get_team_roster(\"LAL\")\n",
    "#g9_away_ros = nba_data.get_team_roster(\"MIN\")\n",
    "#g10_home_ros = nba_data.get_team_roster(\"LAL\")\n",
    "#g10_away_ros = nba_data.get_team_roster(\"MIN\")\n",
    "#g11_home_ros = nba_data.get_team_roster(\"LAL\")\n",
    "#g11_away_ros = nba_data.get_team_roster(\"MIN\")"
   ]
  },
  {
   "cell_type": "markdown",
   "id": "77a06a7d-dfc4-4834-a101-b8f88571fbfa",
   "metadata": {},
   "source": [
    "# Team Stats"
   ]
  },
  {
   "cell_type": "code",
   "execution_count": 30,
   "id": "4d85ec54-1d8e-404f-b5e4-b960a3ffc508",
   "metadata": {},
   "outputs": [],
   "source": [
    "g1_home_tstats = nba_data.fetch_team_stats(\"BOS\", season=\"2023-24\")\n",
    "g1_away_tstats = nba_data.fetch_team_stats(\"NYK\", season=\"2023-24\")"
   ]
  },
  {
   "cell_type": "code",
   "execution_count": 31,
   "id": "aad13298-c692-4ef3-9855-6153b5f5f1e7",
   "metadata": {},
   "outputs": [],
   "source": [
    "g1_home_tstats_df = pd.DataFrame([g1_home_tstats])\n",
    "g1_away_tstats_df = pd.DataFrame([g1_away_tstats])"
   ]
  },
  {
   "cell_type": "markdown",
   "id": "e4689a63-0382-4176-bcb5-93d83c93cb08",
   "metadata": {},
   "source": [
    "# Manual Game Lineups"
   ]
  },
  {
   "cell_type": "code",
   "execution_count": null,
   "id": "3e4d6dd8-f2b2-4f06-aef1-6182678075d3",
   "metadata": {},
   "outputs": [],
   "source": [
    "# Manually select players for the home lineup (using PLAYER_IDs as an example)\n",
    "#g1_home_player_ids = [1628369, 201950, 1627759, 204001,1628401,1630202,1630573,201143]\n",
    "# Manually select players for the away lineup (using PLAYER_IDs as an example)\n",
    "#g1_away_player_ids = [1628973, 1628978, 1630540, 1628384, 1628969,203944,1628404]"
   ]
  },
  {
   "cell_type": "code",
   "execution_count": 34,
   "id": "f74f7829-35c1-4325-832e-55dc7357d91c",
   "metadata": {},
   "outputs": [],
   "source": [
    "#home_lineup = g1_home_ros[g1_home_ros['PLAYER_ID'].isin(g1_home_player_ids)]\n",
    "#away_lineup = g1_away_ros[g1_away_ros['PLAYER_ID'].isin(g1_away_player_ids)]"
   ]
  },
  {
   "cell_type": "code",
   "execution_count": 35,
   "id": "fee8fa90-150d-4a9f-9acf-40a166549aa7",
   "metadata": {},
   "outputs": [],
   "source": [
    "\"\"\"\n",
    "# Initialize empty lists to store the stats DataFrames\n",
    "home_lineup_stats_list = []\n",
    "away_lineup_stats_list = []\n",
    "\n",
    "# Fetch stats for each player in the home lineup\n",
    "for index, player in home_lineup.iterrows():\n",
    "    player_id = player['PLAYER_ID']\n",
    "    player_stats = nba_data.fetch_player_career_stats(player_id)\n",
    "    \n",
    "    if player_stats is not None and not player_stats.empty:\n",
    "        # Filter to keep only the previous season's stats\n",
    "        player_stats = player_stats[player_stats['SEASON_ID'] == previous_season]\n",
    "        home_lineup_stats_list.append(player_stats)\n",
    "\n",
    "# Combine the list of DataFrames into a single DataFrame\n",
    "home_lineup_stats = pd.concat(home_lineup_stats_list, ignore_index=True)\n",
    "\n",
    "# Repeat the process for the away lineup\n",
    "for index, player in away_lineup.iterrows():\n",
    "    player_id = player['PLAYER_ID']\n",
    "    player_stats = nba_data.fetch_player_career_stats(player_id)\n",
    "    \n",
    "    if player_stats is not None and not player_stats.empty:\n",
    "        # Filter to keep only the previous season's stats\n",
    "        player_stats = player_stats[player_stats['SEASON_ID'] == previous_season]\n",
    "        away_lineup_stats_list.append(player_stats)\n",
    "\n",
    "away_lineup_stats = pd.concat(away_lineup_stats_list, ignore_index=True)"
   ]
  },
  {
   "cell_type": "code",
   "execution_count": 49,
   "id": "95b59564-9f79-48fc-a628-b70c183f02ac",
   "metadata": {},
   "outputs": [],
   "source": [
    "# Initialize empty lists to store the stats DataFrames\n",
    "home_lineup_stats_list = []\n",
    "away_lineup_stats_list = []\n",
    "\n",
    "\n",
    "# Fetch stats for each player in the home lineup\n",
    "for index, player in g1_home_ros.iterrows():\n",
    "    player_id = player['PLAYER_ID']\n",
    "    player_stats = nba_data.fetch_player_career_stats(player_id)\n",
    "    \n",
    "    if player_stats is not None and not player_stats.empty:\n",
    "        # Filter to keep only the previous season's stats\n",
    "        player_stats = player_stats[player_stats['SEASON_ID'] == previous_season]\n",
    "        \n",
    "        # If there are stats for the previous season, add to the list\n",
    "        if not player_stats.empty:\n",
    "            home_lineup_stats_list.append(player_stats)\n",
    "\n",
    "# Combine the list of DataFrames into a single DataFrame\n",
    "home_lineup_stats = pd.concat(home_lineup_stats_list, ignore_index=True) if home_lineup_stats_list else pd.DataFrame()\n",
    "\n",
    "# Repeat the process for the away lineup\n",
    "for index, player in g1_away_ros.iterrows():\n",
    "    player_id = player['PLAYER_ID']\n",
    "    player_stats = nba_data.fetch_player_career_stats(player_id)\n",
    "    \n",
    "    if player_stats is not None and not player_stats.empty:\n",
    "        # Filter to keep only the previous season's stats\n",
    "        player_stats = player_stats[player_stats['SEASON_ID'] == previous_season]\n",
    "        \n",
    "        # If there are stats for the previous season, add to the list\n",
    "        if not player_stats.empty:\n",
    "            away_lineup_stats_list.append(player_stats)\n",
    "\n",
    "# Combine the list of DataFrames into a single DataFrame\n",
    "away_lineup_stats = pd.concat(away_lineup_stats_list, ignore_index=True) if away_lineup_stats_list else pd.DataFrame()\n"
   ]
  },
  {
   "cell_type": "code",
   "execution_count": 50,
   "id": "156aa487-1e3c-4ce5-84c7-e630147a8cc9",
   "metadata": {},
   "outputs": [],
   "source": [
    "# Merge home lineup stats with home lineup to get player names\n",
    "home_lineup_stats = home_lineup_stats.merge(\n",
    "    g1_home_ros[['PLAYER_ID', 'PLAYER']],\n",
    "    on='PLAYER_ID',\n",
    "    how='left'\n",
    ")\n",
    "\n",
    "# Merge away lineup stats with away lineup to get player names\n",
    "away_lineup_stats = away_lineup_stats.merge(\n",
    "    g1_away_ros[['PLAYER_ID', 'PLAYER']],\n",
    "    on='PLAYER_ID',\n",
    "    how='left'\n",
    ")"
   ]
  },
  {
   "cell_type": "code",
   "execution_count": 51,
   "id": "156c1f4e-2f2f-42c4-97af-20def8710203",
   "metadata": {},
   "outputs": [],
   "source": [
    "# Reorder the columns so that 'PLAYER' is the first column\n",
    "columns = ['PLAYER'] + [col for col in home_lineup_stats.columns if col != 'PLAYER']\n",
    "home_lineup_stats = home_lineup_stats[columns]\n",
    "\n",
    "# Do the same for away_lineup_stats\n",
    "columns = ['PLAYER'] + [col for col in away_lineup_stats.columns if col != 'PLAYER']\n",
    "away_lineup_stats = away_lineup_stats[columns]"
   ]
  },
  {
   "cell_type": "markdown",
   "id": "71d966d0-9c1c-41e9-beb2-141f67cf9347",
   "metadata": {},
   "source": [
    "# Add Advanced Stats"
   ]
  },
  {
   "cell_type": "code",
   "execution_count": null,
   "id": "6525da51-8a51-40fc-b453-47c185dc9f51",
   "metadata": {},
   "outputs": [],
   "source": [
    "def convert_to_per_game_stats(player_stats):\n",
    "    \"\"\"\n",
    "    Converts cumulative stats in a DataFrame to per-game stats.\n",
    "    \n",
    "    Args:\n",
    "        player_stats (pd.DataFrame): The player stats DataFrame with cumulative totals.\n",
    "    \n",
    "    Returns:\n",
    "        pd.DataFrame: A new DataFrame with per-game stats.\n",
    "    \"\"\"\n",
    "    per_game_stats = player_stats.copy()\n",
    "    \n",
    "    # Calculate per-game averages for relevant columns\n",
    "    stats_to_average = ['MIN', 'FGM', 'FGA', 'FG3M', 'FG3A', 'FTM', 'FTA', 'OREB', 'DREB', 'REB', 'AST', 'STL', 'BLK', 'TOV', 'PF', 'PTS']\n",
    "    for stat in stats_to_average:\n",
    "        per_game_stats[stat] = per_game_stats[stat] / per_game_stats['GP']\n",
    "    \n",
    "    return per_game_stats"
   ]
  },
  {
   "cell_type": "code",
   "execution_count": null,
   "id": "8edd9034-02a0-4932-96fe-6b4b84a786e8",
   "metadata": {},
   "outputs": [],
   "source": [
    "# Convert home and away player stats to per-game averages\n",
    "home_lineup_per_game_stats = convert_to_per_game_stats(home_lineup_stats)\n",
    "away_lineup_per_game_stats = convert_to_per_game_stats(away_lineup_stats)"
   ]
  },
  {
   "cell_type": "code",
   "execution_count": null,
   "id": "5ab91c07-3659-44c6-bdda-80d81a409467",
   "metadata": {},
   "outputs": [],
   "source": [
    "# Now, let's calculate advanced stats using the per-game averages\n",
    "home_lineup_per_game_stats['TS%'] = nba_data.calculate_ts_percentage(home_lineup_per_game_stats)\n",
    "home_lineup_per_game_stats['eFG%'] = nba_data.calculate_efg_percentage(home_lineup_per_game_stats)\n",
    "# Add other advanced stats as needed...\n",
    "\n",
    "# Same for the away team\n",
    "away_lineup_per_game_stats['TS%'] = nba_data.calculate_ts_percentage(away_lineup_per_game_stats)\n",
    "away_lineup_per_game_stats['eFG%'] = nba_data.calculate_efg_percentage(away_lineup_per_game_stats)\n",
    "# Add other advanced stats as needed..."
   ]
  },
  {
   "cell_type": "code",
   "execution_count": null,
   "id": "5dff0c51-a0d1-4381-a019-85ebbbd052dd",
   "metadata": {},
   "outputs": [],
   "source": []
  },
  {
   "cell_type": "code",
   "execution_count": null,
   "id": "0c7dee77-530e-4e6e-8eb3-dbfcaf1cc74f",
   "metadata": {
    "scrolled": true
   },
   "outputs": [],
   "source": [
    "home_lineup_per_game_stats"
   ]
  },
  {
   "cell_type": "markdown",
   "id": "064afd0e-1286-4478-828c-b95f408d1f60",
   "metadata": {
    "jp-MarkdownHeadingCollapsed": true
   },
   "source": [
    "# Team Advanced Stats"
   ]
  },
  {
   "cell_type": "code",
   "execution_count": null,
   "id": "ceab1bd1-c5e9-406b-9181-d63f3f620c17",
   "metadata": {},
   "outputs": [],
   "source": [
    "# Fetch metrics for the 2023-24 season\n",
    "estimated_metrics_df = fetch_team_estimated_metrics(season=\"2023-24\")\n"
   ]
  },
  {
   "cell_type": "code",
   "execution_count": null,
   "id": "886c9aff-b58c-4efd-a232-5fc20f970a87",
   "metadata": {},
   "outputs": [],
   "source": [
    "\n",
    "home_team_id = nba_data.get_team_id(home_team_abbr)\n",
    "away_team_id = nba_data.get_team_id(away_team_abbr)"
   ]
  },
  {
   "cell_type": "code",
   "execution_count": null,
   "id": "bd27f409-8ee6-4add-80a7-99790f795a0b",
   "metadata": {},
   "outputs": [],
   "source": [
    "home_team_metrics = get_team_metrics_by_id(home_team_id, estimated_metrics_df)\n",
    "away_team_metrics = get_team_metrics_by_id(away_team_id, estimated_metrics_df)"
   ]
  },
  {
   "cell_type": "code",
   "execution_count": null,
   "id": "3c4594d4-a314-49c5-bedb-18427d6394d3",
   "metadata": {},
   "outputs": [],
   "source": [
    "home_team_metrics_df = pd.DataFrame([home_team_metrics])\n",
    "away_team_metrics_df = pd.DataFrame([away_team_metrics])"
   ]
  },
  {
   "cell_type": "markdown",
   "id": "3cea92a9-d52b-45ae-9f97-9280e7fe30ff",
   "metadata": {},
   "source": [
    "## Calculate PER"
   ]
  },
  {
   "cell_type": "code",
   "execution_count": null,
   "id": "c032cfdc-23fc-4f33-8a3a-17c2d2fcc967",
   "metadata": {},
   "outputs": [],
   "source": [
    "home_lineup_per_game_stats['PER'] = home_lineup_per_game_stats.apply(\n",
    "    lambda row: calculate_player_per(row, home_team_metrics), axis=1\n",
    ")"
   ]
  },
  {
   "cell_type": "markdown",
   "id": "b69b7b2a-e4b6-4de7-979d-3faa9db0c756",
   "metadata": {},
   "source": [
    "## Calculate ORTg"
   ]
  },
  {
   "cell_type": "code",
   "execution_count": null,
   "id": "e6d3b025-cd03-4956-b748-23cfc928bce9",
   "metadata": {},
   "outputs": [],
   "source": [
    "home_lineup_per_game_stats['ORtg'] = home_lineup_per_game_stats.apply(\n",
    "    lambda row: calculate_player_ortg(row, home_team_metrics['E_PACE']), axis=1\n",
    ")"
   ]
  },
  {
   "cell_type": "markdown",
   "id": "b0346259-70db-412e-a103-8919389dc1ef",
   "metadata": {},
   "source": [
    "## Calculate DRtg"
   ]
  },
  {
   "cell_type": "code",
   "execution_count": null,
   "id": "765c4b47-3c11-416e-b246-04dc7c8f3d13",
   "metadata": {},
   "outputs": [],
   "source": [
    "\"\"\" \n",
    "def calculate_player_drtg(player_stats, opponent_possessions):\n",
    "    \"\"\"\n",
    "    Calculates Defensive Rating (DRtg) for a player.\n",
    "    Args:\n",
    "        player_stats (pd.Series): A series containing the player's stats.\n",
    "        opponent_possessions (int): The total number of opponent possessions.\n",
    "    Returns:\n",
    "        float: The player's Defensive Rating (DRtg).\n",
    "    \"\"\"\n",
    "    points_allowed = player_stats['PTS_AGAINST']\n",
    "    drtg = (points_allowed / opponent_possessions) * 100\n",
    "    return drtg \n",
    "\"\"\""
   ]
  },
  {
   "cell_type": "code",
   "execution_count": null,
   "id": "28829783-b70c-410f-9cf3-362f6e9b4dd2",
   "metadata": {},
   "outputs": [],
   "source": [
    "home_lineup_per_game_stats['DRtg'] = home_lineup_per_game_stats.apply(\n",
    "    lambda row: calculate_player_drtg(row, away_team_metrics['E_PACE']), axis=1\n",
    ")"
   ]
  },
  {
   "cell_type": "markdown",
   "id": "6c869bf1-01a4-4966-b29e-86beb4c94bc0",
   "metadata": {},
   "source": [
    "## ORB%"
   ]
  },
  {
   "cell_type": "code",
   "execution_count": null,
   "id": "5114985b-5883-4ac2-b9a4-4aa54b982231",
   "metadata": {},
   "outputs": [],
   "source": [
    "def calculate_orb_percentage(player_stats, team_stats, opponent_stats):\n",
    "    orb = player_stats['OREB']\n",
    "    team_orb = team_stats['E_OREB_PCT']\n",
    "    opponent_drb = opponent_stats['E_DREB_PCT']\n",
    "    orb_percentage = (orb * (team_stats['MIN'] * 5)) / (player_stats['MIN'] * (team_orb + opponent_drb))\n",
    "    return orb_percentage"
   ]
  },
  {
   "cell_type": "code",
   "execution_count": null,
   "id": "ce945795-f03b-45cb-8671-31ba1e4393f9",
   "metadata": {},
   "outputs": [],
   "source": [
    "home_lineup_per_game_stats['ORB%'] = home_lineup_per_game_stats.apply(\n",
    "    lambda row: calculate_orb_percentage(row, home_team_metrics, away_team_metrics), axis=1\n",
    ")"
   ]
  },
  {
   "cell_type": "markdown",
   "id": "1a8d6a57-0b0f-444c-840d-00a26d10d353",
   "metadata": {},
   "source": [
    "## DRB%"
   ]
  },
  {
   "cell_type": "code",
   "execution_count": null,
   "id": "c80614fd-b5ce-482b-baf9-cfc6f0d4b440",
   "metadata": {},
   "outputs": [],
   "source": [
    "home_lineup_per_game_stats['DRB%'] = home_lineup_per_game_stats.apply(\n",
    "    lambda row: calculate_drb_percentage(row, home_team_metrics, away_team_metrics), axis=1\n",
    ")"
   ]
  },
  {
   "cell_type": "markdown",
   "id": "8bea31f0-ff11-4692-8360-7a393c77c769",
   "metadata": {},
   "source": [
    "## AST%"
   ]
  },
  {
   "cell_type": "code",
   "execution_count": null,
   "id": "76dd3ee5-eac6-444b-a952-d316fb9af217",
   "metadata": {},
   "outputs": [],
   "source": [
    "home_lineup_per_game_stats['AST%'] = home_lineup_per_game_stats.apply(\n",
    "    lambda row: calculate_ast_percentage(row, home_team_metrics), axis=1\n",
    ")"
   ]
  },
  {
   "cell_type": "markdown",
   "id": "c3e63f96-f3fe-475a-a646-1da6c0fd2ad4",
   "metadata": {},
   "source": [
    "## TOV%"
   ]
  },
  {
   "cell_type": "code",
   "execution_count": null,
   "id": "41b05943-2cac-43e9-bc3c-60d1b78be833",
   "metadata": {},
   "outputs": [],
   "source": [
    "home_lineup_per_game_stats['TOV%'] = home_lineup_per_game_stats.apply(\n",
    "    lambda row: calculate_tov_percentage(row), axis=1\n",
    ")"
   ]
  },
  {
   "cell_type": "markdown",
   "id": "11b815a0-790d-4201-9b4a-ed449d6170ab",
   "metadata": {},
   "source": [
    "## PIE"
   ]
  },
  {
   "cell_type": "code",
   "execution_count": null,
   "id": "a11b43d7-e400-4545-9676-3608a77c14d3",
   "metadata": {},
   "outputs": [],
   "source": [
    "\"\"\"\n",
    "home_lineup_per_game_stats['PIE'] = home_lineup_per_game_stats.apply(\n",
    "    lambda row: calculate_pie(row, home_team_metrics, away_team_metrics), axis=1\n",
    ")\n",
    "\"\"\""
   ]
  },
  {
   "cell_type": "markdown",
   "id": "30b0a62c-8236-452b-8caf-3d2485030141",
   "metadata": {},
   "source": [
    "## BPM"
   ]
  },
  {
   "cell_type": "code",
   "execution_count": null,
   "id": "4f6f3696-1db2-4a8d-abf9-063918805d0b",
   "metadata": {},
   "outputs": [],
   "source": [
    "home_lineup_per_game_stats['BPM'] = home_lineup_per_game_stats.apply(\n",
    "    lambda row: calculate_bpm(row, home_team_metrics, home_team_metrics), axis=1\n",
    ")"
   ]
  },
  {
   "cell_type": "markdown",
   "id": "56f241d5-ea21-4b01-bf27-e8e12470d4e3",
   "metadata": {},
   "source": [
    "## Usg%"
   ]
  },
  {
   "cell_type": "code",
   "execution_count": null,
   "id": "10b94ede-c286-462f-94e3-7e75641d23ec",
   "metadata": {},
   "outputs": [],
   "source": [
    "# Now apply this function to calculate USG% for each player\n",
    "    home_lineup_per_game_stats['USG%'] = home_lineup_per_game_stats.apply(\n",
    "        lambda row: calculate_usg_percentage(row, home_lineup_per_game_stats), axis=1)\n",
    "    \n",
    "    away_lineup_per_game_stats['USG%'] = away_lineup_per_game_stats.apply(\n",
    "        lambda row: calculate_usg_percentage(row, away_lineup_per_game_stats), axis=1)"
   ]
  },
  {
   "cell_type": "code",
   "execution_count": null,
   "id": "f7c2f2ed-14e5-48ce-990e-618ef53d19c3",
   "metadata": {},
   "outputs": [],
   "source": []
  },
  {
   "cell_type": "markdown",
   "id": "b2b7244c-7f88-466a-b1b6-b9f652a76990",
   "metadata": {},
   "source": [
    "# Single Player Stats\n"
   ]
  },
  {
   "cell_type": "code",
   "execution_count": null,
   "id": "20431653-9f5c-4d31-b87b-da9ceec73b99",
   "metadata": {},
   "outputs": [],
   "source": [
    "tatum_stats = nba_data.fetch_player_career_stats(1628369)"
   ]
  },
  {
   "cell_type": "code",
   "execution_count": null,
   "id": "b3d803a7-7e7a-445e-9a16-2a41bf7082ed",
   "metadata": {},
   "outputs": [],
   "source": [
    "tatum_logs = nba_data.fetch_player_game_logs(1628369,\"2023\")"
   ]
  },
  {
   "cell_type": "code",
   "execution_count": null,
   "id": "74aab0ca-5fe9-410b-8d5f-ec278637a7d2",
   "metadata": {},
   "outputs": [],
   "source": [
    "# Ensure that GAME_DATE is in datetime format\n",
    "tatum_logs['GAME_DATE'] = pd.to_datetime(tatum_logs['GAME_DATE'])\n",
    "\n",
    "# Plotting the time series of PTS\n",
    "plt.figure(figsize=(10, 6))\n",
    "plt.plot(tatum_logs['GAME_DATE'], tatum_logs['PTS'], marker='o', color='b', label='Points per Game')\n",
    "plt.axhline(tatum_logs['PTS'].mean(), color='r', linestyle='--', label='Average Points')\n",
    "\n",
    "# Adding labels and title\n",
    "plt.title('Jayson Tatum Points per Game - 2023-2024 Season')\n",
    "plt.xlabel('Game Date')\n",
    "plt.ylabel('Points')\n",
    "plt.legend()\n",
    "plt.grid(True)\n",
    "plt.show()"
   ]
  },
  {
   "cell_type": "markdown",
   "id": "ed58140b-f276-471f-a58a-6e446372b739",
   "metadata": {},
   "source": [
    "### Standard Deviation, Variance, and Distribution Analysis"
   ]
  },
  {
   "cell_type": "code",
   "execution_count": null,
   "id": "60d7023d-d8ae-4216-8114-bfe419375a9c",
   "metadata": {},
   "outputs": [],
   "source": [
    "# Calculate mean, variance, and standard deviation\n",
    "mean_pts = tatum_logs['PTS'].mean()\n",
    "variance_pts = tatum_logs['PTS'].var()\n",
    "std_dev_pts = tatum_logs['PTS'].std()\n",
    "\n",
    "# Calculate the z-scores for each game\n",
    "tatum_logs['Z_SCORE'] = (tatum_logs['PTS'] - mean_pts) / std_dev_pts\n",
    "\n",
    "# Define the ranges for standard deviations\n",
    "std_dev_ranges = [\n",
    "    (0, 0.5),\n",
    "    (0.501, 1),\n",
    "    (1.01, 1.5),\n",
    "    (1.501, 2),\n",
    "    (2.01, 2.5),\n",
    "    (2.501, 3)\n",
    "]\n",
    "\n",
    "# Calculate the frequency of games within each standard deviation range\n",
    "freq_within_std_dev = {\n",
    "    f'Between {low} SD and {high} SD': tatum_logs[\n",
    "        (tatum_logs['Z_SCORE'].abs() > low) & (tatum_logs['Z_SCORE'].abs() <= high)\n",
    "    ].shape[0]\n",
    "    for low, high in std_dev_ranges\n",
    "}\n",
    "\n",
    "# Display the frequency of games within standard deviations\n",
    "freq_df = pd.DataFrame(list(freq_within_std_dev.items()), columns=['Range', 'Games Count'])\n",
    "freq_df"
   ]
  },
  {
   "cell_type": "code",
   "execution_count": null,
   "id": "470a3b72-0e16-4854-8408-1d23dcb3e494",
   "metadata": {},
   "outputs": [],
   "source": [
    "# Plotting the distribution\n",
    "plt.figure(figsize=(10, 6))\n",
    "sns.histplot(tatum_logs['PTS'], kde=True, color='b')\n",
    "plt.axvline(mean_pts, color='r', linestyle='--', label=f'Average Points = {mean_pts:.2f}')\n",
    "plt.axvline(mean_pts + std_dev_pts, color='g', linestyle='--', label=f'+1 SD = {mean_pts + std_dev_pts:.2f}')\n",
    "plt.axvline(mean_pts - std_dev_pts, color='g', linestyle='--', label=f'-1 SD = {mean_pts - std_dev_pts:.2f}')\n",
    "plt.axvline(mean_pts + 2 * std_dev_pts, color='orange', linestyle='--', label=f'+2 SD = {mean_pts + 2 * std_dev_pts:.2f}')\n",
    "plt.axvline(mean_pts - 2 * std_dev_pts, color='orange', linestyle='--', label=f'-2 SD = {mean_pts - 2 * std_dev_pts:.2f}')\n",
    "\n",
    "# Adding labels and title\n",
    "plt.title('Distribution of Jayson Tatum's Points per Game - 2023-2024 Season')\n",
    "plt.xlabel('Points')\n",
    "plt.ylabel('Frequency')\n",
    "plt.legend()\n",
    "plt.grid(True)\n",
    "plt.show()"
   ]
  },
  {
   "cell_type": "markdown",
   "id": "8a1141da-454e-49b4-a3f5-f0bc627019f0",
   "metadata": {},
   "source": [
    "## PPG Trend"
   ]
  },
  {
   "cell_type": "code",
   "execution_count": null,
   "id": "fb9b7261-2cb5-4651-9781-61c04d77e8c9",
   "metadata": {},
   "outputs": [],
   "source": [
    "# Assuming tatum_logs contains Tatum's game logs with a 'PTS' column and a 'GAME_DATE' column\n",
    "tatum_logs['GAME_DATE'] = pd.to_datetime(tatum_logs['GAME_DATE'])\n",
    "\n",
    "# Sort by game date to ensure the plot is chronological\n",
    "tatum_logs.sort_values('GAME_DATE', inplace=True)\n",
    "\n",
    "# Calculate the moving average (e.g., 5-game moving average)\n",
    "tatum_logs['MOVING_AVG_PPG'] = tatum_logs['PTS'].rolling(window=5).mean()\n",
    "\n",
    "# Plotting the PPG trend\n",
    "plt.figure(figsize=(12, 6))\n",
    "plt.plot(tatum_logs['GAME_DATE'], tatum_logs['PTS'], marker='o', linestyle='-', label='Points Per Game', color='b')\n",
    "plt.plot(tatum_logs['GAME_DATE'], tatum_logs['MOVING_AVG_PPG'], linestyle='-', label='5-Game Moving Average', color='orange')\n",
    "plt.axhline(mean_pts, color='r', linestyle='--', label=f'Average PPG = {mean_pts:.2f}')\n",
    "\n",
    "# Highlight high-scoring streaks (e.g., games where he scored above his average PPG)\n",
    "high_scoring_streaks = tatum_logs[tatum_logs['PTS'] > mean_pts]\n",
    "plt.scatter(high_scoring_streaks['GAME_DATE'], high_scoring_streaks['PTS'], color='green', label='Above Average PPG')\n",
    "\n",
    "# Highlight low-scoring streaks (e.g., games where he scored below his average PPG)\n",
    "low_scoring_streaks = tatum_logs[tatum_logs['PTS'] < mean_pts]\n",
    "plt.scatter(low_scoring_streaks['GAME_DATE'], low_scoring_streaks['PTS'], color='red', label='Below Average PPG')\n",
    "\n",
    "# Adding labels and title\n",
    "plt.title(\"Jayson Tatum's Points Per Game Trend - 2023-2024 Season\")\n",
    "plt.xlabel('Game Date')\n",
    "plt.ylabel('Points')\n",
    "plt.legend()\n",
    "plt.grid(True)\n",
    "plt.show()"
   ]
  },
  {
   "cell_type": "markdown",
   "id": "779e9685-55a8-4c17-aa1e-c7555e915b05",
   "metadata": {},
   "source": [
    "# Player Matchup Comparison"
   ]
  },
  {
   "cell_type": "code",
   "execution_count": null,
   "id": "bdc88ba1-e91d-4ac1-9e81-f633400d83d6",
   "metadata": {},
   "outputs": [],
   "source": [
    "home_lineup"
   ]
  },
  {
   "cell_type": "code",
   "execution_count": null,
   "id": "91b1e15f-8fa8-4269-8ebe-3ec106207c48",
   "metadata": {},
   "outputs": [],
   "source": [
    "away_lineup"
   ]
  },
  {
   "cell_type": "code",
   "execution_count": null,
   "id": "71429551-36f3-443b-a900-0941abe0dc0f",
   "metadata": {},
   "outputs": [],
   "source": [
    "home_player_id = 1628369  # Jayson Tatum's player ID\n",
    "away_player_id = 1628969\t\t   # Example: Another player's ID from the away team"
   ]
  },
  {
   "cell_type": "code",
   "execution_count": null,
   "id": "c7124701-eee7-404d-883c-b65e7b962ab4",
   "metadata": {},
   "outputs": [],
   "source": [
    "# Fetch the game logs for both players\n",
    "home_player_logs = nba_data.fetch_player_game_logs(home_player_id, '2023-24')\n",
    "away_player_logs = nba_data.fetch_player_game_logs(away_player_id, '2023-24')"
   ]
  },
  {
   "cell_type": "code",
   "execution_count": null,
   "id": "c8bba55c-2a16-455c-92f2-4c0ae702db9b",
   "metadata": {},
   "outputs": [],
   "source": [
    "# Calculate the moving average for points per game for both players\n",
    "home_player_logs['MOVING_AVG_PPG'] = home_player_logs['PTS'].rolling(window=5).mean()\n",
    "away_player_logs['MOVING_AVG_PPG'] = away_player_logs['PTS'].rolling(window=5).mean()"
   ]
  },
  {
   "cell_type": "code",
   "execution_count": null,
   "id": "3a78a4d3-fb35-4ba0-ac0b-51a6feb7ca1c",
   "metadata": {},
   "outputs": [],
   "source": [
    "plt.figure(figsize=(12, 6))\n",
    "\n",
    "# Plotting the home player's PPG trend with markers\n",
    "plt.plot(home_player_logs['GAME_DATE'], home_player_logs['MOVING_AVG_PPG'], label='Home Player - 5-Game Moving Average', color='blue', marker='o')\n",
    "\n",
    "# Plotting the away player's PPG trend with markers\n",
    "plt.plot(away_player_logs['GAME_DATE'], away_player_logs['MOVING_AVG_PPG'], label='Away Player - 5-Game Moving Average', color='red', marker='o')\n",
    "\n",
    "# Formatting the x-axis dates\n",
    "plt.gca().xaxis.set_major_formatter(mdates.DateFormatter('%b %d'))\n",
    "plt.gca().xaxis.set_major_locator(mdates.WeekdayLocator(interval=1))\n",
    "plt.gcf().autofmt_xdate()  # Rotate date labels\n",
    "\n",
    "# Adding labels and title\n",
    "plt.title('Head-to-Head Comparison of Points Per Game - 2023-2024 Season')\n",
    "plt.xlabel('Game Date')\n",
    "plt.ylabel('Points Per Game (Moving Average)')\n",
    "plt.legend()\n",
    "plt.grid(True)\n",
    "plt.tight_layout()\n",
    "plt.show()\n"
   ]
  },
  {
   "cell_type": "code",
   "execution_count": null,
   "id": "12821e26-8b22-4191-9764-b824463728ab",
   "metadata": {},
   "outputs": [],
   "source": []
  },
  {
   "cell_type": "markdown",
   "id": "817f875d-5d8f-4386-89dd-2be7f4428f63",
   "metadata": {},
   "source": [
    "# Get Opponent Points Against"
   ]
  },
  {
   "cell_type": "code",
   "execution_count": null,
   "id": "a5e505fb-fcda-4fdb-9cd0-d1dbabde6443",
   "metadata": {},
   "outputs": [],
   "source": [
    "from nba_api.stats.endpoints import teaminfocommon"
   ]
  },
  {
   "cell_type": "code",
   "execution_count": null,
   "id": "d5efb606-81ec-4e25-bf7c-13352bf6701e",
   "metadata": {},
   "outputs": [],
   "source": [
    "def fetch_team_season_ranks(team_id, season):\n",
    "    \"\"\"\n",
    "    Fetches the TeamSeasonRanks data for a specific team and season.\n",
    "    Args:\n",
    "        team_id (int): The ID of the team.\n",
    "        season (str): The NBA season in 'YYYY-YY' format (e.g., '2023-24').\n",
    "\n",
    "    Returns:\n",
    "        pd.DataFrame: DataFrame containing the team's season ranks, including OPP_PTS_PG.\n",
    "    \"\"\"\n",
    "    try:\n",
    "        team_info = teaminfocommon.TeamInfoCommon(\n",
    "            team_id=team_id,\n",
    "            season_nullable=season,\n",
    "            season_type_nullable=\"Regular Season\"\n",
    "        )\n",
    "        \n",
    "        # Extract the TeamSeasonRanks data\n",
    "        team_season_ranks = team_info.team_season_ranks.get_data_frame()\n",
    "        return team_season_ranks\n",
    "    except Exception as e:\n",
    "        print(f\"Error fetching TeamSeasonRanks for team ID {team_id}: {e}\")\n",
    "        return None"
   ]
  },
  {
   "cell_type": "code",
   "execution_count": null,
   "id": "a0c594ac-82ff-4451-8125-2696b3ab1c88",
   "metadata": {},
   "outputs": [],
   "source": [
    "# Example usage\n",
    "team_id = 1610612739  # Replace with your specific Team ID\n",
    "season = \"2023-24\"\n",
    "team_season_ranks_df = fetch_team_season_ranks(team_id, season)"
   ]
  },
  {
   "cell_type": "code",
   "execution_count": null,
   "id": "57401df3-7a02-446f-a695-a7ef352f4da7",
   "metadata": {},
   "outputs": [],
   "source": [
    "team_season_ranks_df"
   ]
  }
 ],
 "metadata": {
  "kernelspec": {
   "display_name": "bball",
   "language": "python",
   "name": "bball"
  },
  "language_info": {
   "codemirror_mode": {
    "name": "ipython",
    "version": 3
   },
   "file_extension": ".py",
   "mimetype": "text/x-python",
   "name": "python",
   "nbconvert_exporter": "python",
   "pygments_lexer": "ipython3",
   "version": "3.10.13"
  }
 },
 "nbformat": 4,
 "nbformat_minor": 5
}
