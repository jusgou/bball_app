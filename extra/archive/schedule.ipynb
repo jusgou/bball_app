{
 "cells": [
  {
   "cell_type": "code",
   "execution_count": 1,
   "id": "71c2f39b-9683-4de7-b588-335f89a3925c",
   "metadata": {},
   "outputs": [],
   "source": [
    "import json\n",
    "import datetime\n",
    "import requests\n",
    "import pandas as pd\n",
    "import numpy as np\n",
    "import re"
   ]
  },
  {
   "cell_type": "code",
   "execution_count": 2,
   "id": "9ca5cf3a-89b3-4821-8fa4-69a442f3ad80",
   "metadata": {},
   "outputs": [],
   "source": [
    "from datetime import datetime, timedelta"
   ]
  },
  {
   "cell_type": "code",
   "execution_count": 3,
   "id": "6bb4af36-5eb0-4def-baa5-2f4018f04235",
   "metadata": {},
   "outputs": [],
   "source": [
    "# for fetching team divisons and conferences \n",
    "from nba_api.stats.endpoints._base import Endpoint\n",
    "from nba_api.stats.library.http import NBAStatsHTTP\n",
    "from nba_api.stats.library.parameters import (\n",
    "    LeagueID,\n",
    "    Season,\n",
    "    SeasonType,\n",
    "    SeasonNullable,\n",
    ")\n",
    "from nba_api.stats.endpoints.leaguestandingsv3 import LeagueStandingsV3"
   ]
  },
  {
   "cell_type": "markdown",
   "id": "4bf92b8b-664c-4c63-b07d-6142229fc636",
   "metadata": {},
   "source": [
    "# Import Schedule"
   ]
  },
  {
   "cell_type": "code",
   "execution_count": 4,
   "id": "0ab7b9a0-5039-4643-ac74-26533b0064fc",
   "metadata": {},
   "outputs": [],
   "source": [
    "year='2024'\n",
    "r = requests.get('https://data.nba.com/data/10s/v2015/json/mobile_teams/nba/' + year + '/league/00_full_schedule.json')\n",
    "json_data = r.json()"
   ]
  },
  {
   "cell_type": "code",
   "execution_count": 5,
   "id": "105637cd-98f4-482b-bb45-5a4686df183b",
   "metadata": {},
   "outputs": [],
   "source": [
    "data = [\n",
    "    {\n",
    "        'Game ID': game['gid'],\n",
    "        'Game Code': game['gcode'],\n",
    "        'Game Date': game['gdte'],\n",
    "        'Arena': game['an'],\n",
    "        'Arena City': game['ac'],\n",
    "        'Arena State': game['as'],\n",
    "        'Home Team Abbreviation': game['h']['ta'],\n",
    "        'Home Team Name': game['h']['tn'],\n",
    "        'Home Team City': game['h']['tc'],\n",
    "        'Home Team Score': game['h']['s'],\n",
    "        'Visiting Team Abbreviation': game['v']['ta'],\n",
    "        'Visiting Team Name': game['v']['tn'],\n",
    "        'Visiting Team City': game['v']['tc'],\n",
    "        'Visiting Team Score': game['v']['s'],\n",
    "        'Game Time': game['stt'],\n",
    "        'Game Status': game['st'],\n",
    "        'Game Date UTC': game['gdtutc'],\n",
    "        'UTC Time': game['utctm']\n",
    "    }\n",
    "    for month_schedule in json_data['lscd']\n",
    "    for game in month_schedule['mscd']['g']\n",
    "]\n",
    "\n",
    "# Create DataFrame directly from the list of dictionaries\n",
    "df = pd.DataFrame(data)"
   ]
  },
  {
   "cell_type": "code",
   "execution_count": 6,
   "id": "896e1062-4e40-4dc3-96ad-0e71607b9387",
   "metadata": {},
   "outputs": [],
   "source": [
    "# Sort the DataFrame by the \"Game Date\" column\n",
    "schedule_df = df.sort_values(by=\"Game Date\")\n",
    "schedule_df_clean = schedule_df.drop(columns=[\"Game Date UTC\", \"UTC Time\", \"Game Status\", \"Visiting Team City\", \"Home Team City\", \"Game Code\", \"Arena State\"])\n",
    "# If you want to reset the index after sorting\n",
    "schedule = schedule_df_clean.reset_index(drop=True).copy()"
   ]
  },
  {
   "cell_type": "markdown",
   "id": "3f9bd365-a6af-432d-9bd6-30b3099053c1",
   "metadata": {},
   "source": [
    "# Functions "
   ]
  },
  {
   "cell_type": "code",
   "execution_count": 7,
   "id": "8e812cd6-8a00-4de8-b1cb-7d79d7105957",
   "metadata": {},
   "outputs": [],
   "source": [
    "def get_todays_games(df, today):\n",
    "    todays_games=df[df[\"Game Date\"] == today]\n",
    "    return todays_games"
   ]
  },
  {
   "cell_type": "code",
   "execution_count": 8,
   "id": "cbf56dd3-0a84-46a8-ac16-d6dd99689ff0",
   "metadata": {},
   "outputs": [
    {
     "data": {
      "text/html": [
       "<div>\n",
       "<style scoped>\n",
       "    .dataframe tbody tr th:only-of-type {\n",
       "        vertical-align: middle;\n",
       "    }\n",
       "\n",
       "    .dataframe tbody tr th {\n",
       "        vertical-align: top;\n",
       "    }\n",
       "\n",
       "    .dataframe thead th {\n",
       "        text-align: right;\n",
       "    }\n",
       "</style>\n",
       "<table border=\"1\" class=\"dataframe\">\n",
       "  <thead>\n",
       "    <tr style=\"text-align: right;\">\n",
       "      <th></th>\n",
       "      <th>Game ID</th>\n",
       "      <th>Game Date</th>\n",
       "      <th>Arena</th>\n",
       "      <th>Arena City</th>\n",
       "      <th>Home Team Abbreviation</th>\n",
       "      <th>Home Team Name</th>\n",
       "      <th>Home Team Score</th>\n",
       "      <th>Visiting Team Abbreviation</th>\n",
       "      <th>Visiting Team Name</th>\n",
       "      <th>Visiting Team Score</th>\n",
       "      <th>Game Time</th>\n",
       "    </tr>\n",
       "  </thead>\n",
       "  <tbody>\n",
       "    <tr>\n",
       "      <th>2</th>\n",
       "      <td>0022400067</td>\n",
       "      <td>2024-10-23</td>\n",
       "      <td>Scotiabank Arena</td>\n",
       "      <td>Toronto</td>\n",
       "      <td>TOR</td>\n",
       "      <td>Raptors</td>\n",
       "      <td></td>\n",
       "      <td>CLE</td>\n",
       "      <td>Cavaliers</td>\n",
       "      <td></td>\n",
       "      <td>7:30 pm ET</td>\n",
       "    </tr>\n",
       "    <tr>\n",
       "      <th>3</th>\n",
       "      <td>0022400072</td>\n",
       "      <td>2024-10-23</td>\n",
       "      <td>Moda Center</td>\n",
       "      <td>Portland</td>\n",
       "      <td>POR</td>\n",
       "      <td>Trail Blazers</td>\n",
       "      <td></td>\n",
       "      <td>GSW</td>\n",
       "      <td>Warriors</td>\n",
       "      <td></td>\n",
       "      <td>10:00 pm ET</td>\n",
       "    </tr>\n",
       "    <tr>\n",
       "      <th>4</th>\n",
       "      <td>0022400071</td>\n",
       "      <td>2024-10-23</td>\n",
       "      <td>Intuit Dome</td>\n",
       "      <td>Inglewood</td>\n",
       "      <td>LAC</td>\n",
       "      <td>Clippers</td>\n",
       "      <td></td>\n",
       "      <td>PHX</td>\n",
       "      <td>Suns</td>\n",
       "      <td></td>\n",
       "      <td>10:00 pm ET</td>\n",
       "    </tr>\n",
       "    <tr>\n",
       "      <th>5</th>\n",
       "      <td>0022400070</td>\n",
       "      <td>2024-10-23</td>\n",
       "      <td>Delta Center</td>\n",
       "      <td>Salt Lake City</td>\n",
       "      <td>UTA</td>\n",
       "      <td>Jazz</td>\n",
       "      <td></td>\n",
       "      <td>MEM</td>\n",
       "      <td>Grizzlies</td>\n",
       "      <td></td>\n",
       "      <td>9:00 pm ET</td>\n",
       "    </tr>\n",
       "    <tr>\n",
       "      <th>6</th>\n",
       "      <td>0022400066</td>\n",
       "      <td>2024-10-23</td>\n",
       "      <td>Wells Fargo Center</td>\n",
       "      <td>Philadelphia</td>\n",
       "      <td>PHI</td>\n",
       "      <td>76ers</td>\n",
       "      <td></td>\n",
       "      <td>MIL</td>\n",
       "      <td>Bucks</td>\n",
       "      <td></td>\n",
       "      <td>7:30 pm ET</td>\n",
       "    </tr>\n",
       "    <tr>\n",
       "      <th>7</th>\n",
       "      <td>0022400068</td>\n",
       "      <td>2024-10-23</td>\n",
       "      <td>Toyota Center</td>\n",
       "      <td>Houston</td>\n",
       "      <td>HOU</td>\n",
       "      <td>Rockets</td>\n",
       "      <td></td>\n",
       "      <td>CHA</td>\n",
       "      <td>Hornets</td>\n",
       "      <td></td>\n",
       "      <td>8:00 pm ET</td>\n",
       "    </tr>\n",
       "    <tr>\n",
       "      <th>8</th>\n",
       "      <td>0022400065</td>\n",
       "      <td>2024-10-23</td>\n",
       "      <td>Kaseya Center</td>\n",
       "      <td>Miami</td>\n",
       "      <td>MIA</td>\n",
       "      <td>Heat</td>\n",
       "      <td></td>\n",
       "      <td>ORL</td>\n",
       "      <td>Magic</td>\n",
       "      <td></td>\n",
       "      <td>7:30 pm ET</td>\n",
       "    </tr>\n",
       "    <tr>\n",
       "      <th>9</th>\n",
       "      <td>0022400064</td>\n",
       "      <td>2024-10-23</td>\n",
       "      <td>State Farm Arena</td>\n",
       "      <td>Atlanta</td>\n",
       "      <td>ATL</td>\n",
       "      <td>Hawks</td>\n",
       "      <td></td>\n",
       "      <td>BKN</td>\n",
       "      <td>Nets</td>\n",
       "      <td></td>\n",
       "      <td>7:30 pm ET</td>\n",
       "    </tr>\n",
       "    <tr>\n",
       "      <th>10</th>\n",
       "      <td>0022400069</td>\n",
       "      <td>2024-10-23</td>\n",
       "      <td>Smoothie King Center</td>\n",
       "      <td>New Orleans</td>\n",
       "      <td>NOP</td>\n",
       "      <td>Pelicans</td>\n",
       "      <td></td>\n",
       "      <td>CHI</td>\n",
       "      <td>Bulls</td>\n",
       "      <td></td>\n",
       "      <td>8:00 pm ET</td>\n",
       "    </tr>\n",
       "    <tr>\n",
       "      <th>11</th>\n",
       "      <td>0022400063</td>\n",
       "      <td>2024-10-23</td>\n",
       "      <td>Little Caesars Arena</td>\n",
       "      <td>Detroit</td>\n",
       "      <td>DET</td>\n",
       "      <td>Pistons</td>\n",
       "      <td></td>\n",
       "      <td>IND</td>\n",
       "      <td>Pacers</td>\n",
       "      <td></td>\n",
       "      <td>7:00 pm ET</td>\n",
       "    </tr>\n",
       "  </tbody>\n",
       "</table>\n",
       "</div>"
      ],
      "text/plain": [
       "       Game ID   Game Date                 Arena      Arena City  \\\n",
       "2   0022400067  2024-10-23      Scotiabank Arena         Toronto   \n",
       "3   0022400072  2024-10-23           Moda Center        Portland   \n",
       "4   0022400071  2024-10-23           Intuit Dome       Inglewood   \n",
       "5   0022400070  2024-10-23          Delta Center  Salt Lake City   \n",
       "6   0022400066  2024-10-23    Wells Fargo Center    Philadelphia   \n",
       "7   0022400068  2024-10-23         Toyota Center         Houston   \n",
       "8   0022400065  2024-10-23         Kaseya Center           Miami   \n",
       "9   0022400064  2024-10-23      State Farm Arena         Atlanta   \n",
       "10  0022400069  2024-10-23  Smoothie King Center     New Orleans   \n",
       "11  0022400063  2024-10-23  Little Caesars Arena         Detroit   \n",
       "\n",
       "   Home Team Abbreviation Home Team Name Home Team Score  \\\n",
       "2                     TOR        Raptors                   \n",
       "3                     POR  Trail Blazers                   \n",
       "4                     LAC       Clippers                   \n",
       "5                     UTA           Jazz                   \n",
       "6                     PHI          76ers                   \n",
       "7                     HOU        Rockets                   \n",
       "8                     MIA           Heat                   \n",
       "9                     ATL          Hawks                   \n",
       "10                    NOP       Pelicans                   \n",
       "11                    DET        Pistons                   \n",
       "\n",
       "   Visiting Team Abbreviation Visiting Team Name Visiting Team Score  \\\n",
       "2                         CLE          Cavaliers                       \n",
       "3                         GSW           Warriors                       \n",
       "4                         PHX               Suns                       \n",
       "5                         MEM          Grizzlies                       \n",
       "6                         MIL              Bucks                       \n",
       "7                         CHA            Hornets                       \n",
       "8                         ORL              Magic                       \n",
       "9                         BKN               Nets                       \n",
       "10                        CHI              Bulls                       \n",
       "11                        IND             Pacers                       \n",
       "\n",
       "      Game Time  \n",
       "2    7:30 pm ET  \n",
       "3   10:00 pm ET  \n",
       "4   10:00 pm ET  \n",
       "5    9:00 pm ET  \n",
       "6    7:30 pm ET  \n",
       "7    8:00 pm ET  \n",
       "8    7:30 pm ET  \n",
       "9    7:30 pm ET  \n",
       "10   8:00 pm ET  \n",
       "11   7:00 pm ET  "
      ]
     },
     "execution_count": 8,
     "metadata": {},
     "output_type": "execute_result"
    }
   ],
   "source": [
    "get_todays_games(schedule, '2024-10-23')"
   ]
  },
  {
   "cell_type": "markdown",
   "id": "13c6f2ea-b05a-4c89-8d61-f67ea17368bb",
   "metadata": {},
   "source": [
    "# Get Teams and Divisions"
   ]
  },
  {
   "cell_type": "code",
   "execution_count": 82,
   "id": "cf021a94-fa2f-4fff-b893-8391d0b86c80",
   "metadata": {},
   "outputs": [
    {
     "name": "stdout",
     "output_type": "stream",
     "text": [
      "Number of teams fetched: 30\n"
     ]
    }
   ],
   "source": [
    "from nba_api.stats.static import teams\n",
    "\n",
    "# get_teams returns a list of 30 dictionaries, each an NBA team.\n",
    "nba_teams = teams.get_teams()\n",
    "print(\"Number of teams fetched: {}\".format(len(nba_teams)))\n",
    "nba_teams[0:29]\n",
    "teams = pd.DataFrame(nba_teams)\n",
    "teams = teams.set_index('id') "
   ]
  },
  {
   "cell_type": "code",
   "execution_count": 83,
   "id": "9d3457dc-1d2d-4a61-b98d-0785aef5345e",
   "metadata": {},
   "outputs": [],
   "source": [
    "def season_standings(season, season_type): \n",
    "    league_standings = LeagueStandingsV3(\n",
    "        league_id=\"00\",\n",
    "        season=season,              # Example: \"2022-23\" for the 2022-2023 season\n",
    "        season_type=season_type   # Example: \"Regular Season\", \"Playoffs\", etc.\n",
    "    )\n",
    "    standings_data = league_standings.standings.get_dict()\n",
    "    standings = pd.DataFrame(standings_data['data'], columns=standings_data['headers'])\n",
    "    standings.index = np.arange(1, len(standings) + 1)\n",
    "    standings = standings.drop(columns=['SeasonID','LeagueID', 'TeamSlug', 'LeagueRank','LongHomeStreak', 'LongRoadStreak','CurrentHomeStreak','CurrentRoadStreak','CurrentStreak'])\n",
    "    return standings "
   ]
  },
  {
   "cell_type": "code",
   "execution_count": 84,
   "id": "1d5d1e3c-a9b4-42ad-8248-9b9bc16260c3",
   "metadata": {},
   "outputs": [],
   "source": [
    "league_standings = season_standings('2023-24', 'Regular Season')"
   ]
  },
  {
   "cell_type": "code",
   "execution_count": 85,
   "id": "9348ce8a-582e-446a-b35f-842e47b7420f",
   "metadata": {},
   "outputs": [],
   "source": [
    "league_standings = league_standings.rename(columns={'TeamID': 'id'})\n",
    "\n",
    "# Step 2: Merge the DataFrames on the 'id' column\n",
    "teams_divisions = pd.merge(teams, league_standings[['id', 'Division', 'Conference']], on='id', how='left')\n"
   ]
  },
  {
   "cell_type": "code",
   "execution_count": null,
   "id": "330cb407-08f1-421b-a7c9-abcf1ac670e6",
   "metadata": {},
   "outputs": [],
   "source": []
  },
  {
   "cell_type": "code",
   "execution_count": 86,
   "id": "c1a259cb-917e-49a9-ab13-ec7ea593bb59",
   "metadata": {},
   "outputs": [],
   "source": [
    "# Merge for Home Teams\n",
    "schedule1 = schedule.merge(teams_divisions[['abbreviation', 'Division', 'Conference']], \n",
    "                          left_on='Home Team Abbreviation', right_on='abbreviation', \n",
    "                          how='left').rename(columns={'Division': 'Home Division', 'Conference': 'Home Conference'})\n",
    "\n",
    "# Merge for Visiting Teams\n",
    "schedule2 = schedule1.merge(teams_divisions[['abbreviation', 'Division', 'Conference']], \n",
    "                          left_on='Visiting Team Abbreviation', right_on='abbreviation', \n",
    "                          how='left').rename(columns={'Division': 'Visiting Division', 'Conference': 'Visiting Conference'})"
   ]
  },
  {
   "cell_type": "code",
   "execution_count": 111,
   "id": "6f87f9dd-91e5-47dd-b9f1-675f71786342",
   "metadata": {},
   "outputs": [],
   "source": [
    "# Divisional Game: Same division for both teams\n",
    "schedule2['Divisional Game'] = schedule2['Home Division'] == schedule2['Visiting Division']\n",
    "\n",
    "# Conference Game: Same conference for both teams\n",
    "schedule2['Conference Game'] = schedule2['Home Conference'] == schedule2['Visiting Conference']\n",
    "\n",
    "# Step 3: Convert the boolean values to more descriptive text if desired\n",
    "schedule2['Divisional Game'] = schedule2['Divisional Game'].apply(lambda x: 'Yes' if x else 'No')\n",
    "schedule2['Conference Game'] = schedule2['Conference Game'].apply(lambda x: 'Yes' if x else 'No')"
   ]
  },
  {
   "cell_type": "code",
   "execution_count": 112,
   "id": "1868c3b0-218e-45e8-9cd3-678d6f5cabd1",
   "metadata": {},
   "outputs": [],
   "source": [
    "final_schedule = schedule2.drop(columns=['Visiting Team Score', 'Home Team Score', \"abbreviation_x\", \"abbreviation_y\"])"
   ]
  },
  {
   "cell_type": "code",
   "execution_count": 113,
   "id": "caefd439-8378-4e1d-b907-94459ba63945",
   "metadata": {},
   "outputs": [],
   "source": [
    "final_schedule = final_schedule.drop(columns=[\"Home Team Name\", \"Visiting Team Name\"])"
   ]
  },
  {
   "cell_type": "code",
   "execution_count": 115,
   "id": "50b2cd5a-3e2d-4d0c-be15-e23706d5b8f8",
   "metadata": {},
   "outputs": [],
   "source": [
    "new_column_order = ['Game Date', 'Game ID', 'Game Time', 'Arena', 'Arena City', 'Home Team Abbreviation', 'Home Conference', 'Home Division', 'Visiting Team Abbreviation', 'Visiting Conference', 'Visiting Division', 'Divisional Game', 'Conference Game'] "
   ]
  },
  {
   "cell_type": "code",
   "execution_count": 116,
   "id": "5058d482-3b63-4a7a-a134-8cfccd5891b8",
   "metadata": {},
   "outputs": [],
   "source": [
    "nbaSchedule24 = final_schedule[new_column_order]"
   ]
  },
  {
   "cell_type": "code",
   "execution_count": 118,
   "id": "7e67f4de-fa54-4b51-874e-1e9b984aecc4",
   "metadata": {},
   "outputs": [],
   "source": [
    "nbaSchedule24.to_csv('nbaSchedule24.csv', index=False)"
   ]
  },
  {
   "cell_type": "code",
   "execution_count": null,
   "id": "50834a8f-e85b-4f41-976e-910c5c51271e",
   "metadata": {},
   "outputs": [],
   "source": []
  }
 ],
 "metadata": {
  "kernelspec": {
   "display_name": "bball",
   "language": "python",
   "name": "bball"
  },
  "language_info": {
   "codemirror_mode": {
    "name": "ipython",
    "version": 3
   },
   "file_extension": ".py",
   "mimetype": "text/x-python",
   "name": "python",
   "nbconvert_exporter": "python",
   "pygments_lexer": "ipython3",
   "version": "3.10.13"
  }
 },
 "nbformat": 4,
 "nbformat_minor": 5
}
