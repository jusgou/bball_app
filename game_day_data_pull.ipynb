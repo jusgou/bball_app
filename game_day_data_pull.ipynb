{
 "cells": [
  {
   "cell_type": "code",
   "execution_count": 65,
   "id": "2d87358b-f021-4550-8292-0df638c559f8",
   "metadata": {},
   "outputs": [],
   "source": [
    "import pandas as pd\n",
    "import matplotlib.pyplot as plt\n",
    "from classes import NBATeamRosters\n",
    "from cache_manager import CacheManager\n",
    "import matplotlib.pyplot as plt\n",
    "import matplotlib.dates as mdates\n",
    "import datetime\n",
    "import json\n",
    "import seaborn as sns\n",
    "import joblib\n",
    "import os\n",
    "import time"
   ]
  },
  {
   "cell_type": "code",
   "execution_count": 66,
   "id": "a387f531-010b-497c-a480-0f6e1099beff",
   "metadata": {},
   "outputs": [],
   "source": [
    "nba_data = NBATeamRosters(season=\"2024\")\n",
    "cache_manager = CacheManager()"
   ]
  },
  {
   "cell_type": "code",
   "execution_count": 67,
   "id": "af40ebe1-f001-4967-a4c8-91080e6c70aa",
   "metadata": {},
   "outputs": [],
   "source": [
    "# Fetch the list of teams\n",
    "#nba_data.fetch_teams()\n",
    "\n",
    "# Display the teams DataFrame\n",
    "#nba_data.teams_df"
   ]
  },
  {
   "cell_type": "markdown",
   "id": "24c6245c-e961-43b7-9047-d4936aabdc23",
   "metadata": {},
   "source": [
    "# Set Constants"
   ]
  },
  {
   "cell_type": "code",
   "execution_count": 68,
   "id": "ba19f39f-84e9-4d56-ac07-e2c9628b73dd",
   "metadata": {},
   "outputs": [],
   "source": [
    "pd.set_option('display.max_columns', None)\n",
    "pd.set_option('display.max_rows', None)"
   ]
  },
  {
   "cell_type": "code",
   "execution_count": 69,
   "id": "da49a9df-fc4f-4f1e-aa9f-15cfa7685b06",
   "metadata": {},
   "outputs": [],
   "source": [
    "# Define the previous season\n",
    "previous_season = \"2023-24\"\n",
    "current_season = \"2024-25\""
   ]
  },
  {
   "cell_type": "markdown",
   "id": "3a48f970-4fba-4c44-b728-6a51d16a63bc",
   "metadata": {},
   "source": [
    "# Full Schedule"
   ]
  },
  {
   "cell_type": "code",
   "execution_count": 70,
   "id": "64707f01-6ef4-464f-8d9e-7bee1598988d",
   "metadata": {},
   "outputs": [],
   "source": [
    "# Fetch Teams Master List \n",
    "nba_data.fetch_teams()\n",
    "teams_df = nba_data.teams_df"
   ]
  },
  {
   "cell_type": "code",
   "execution_count": 71,
   "id": "7407b6be-0115-4648-81ad-61455e4d863c",
   "metadata": {},
   "outputs": [
    {
     "name": "stdout",
     "output_type": "stream",
     "text": [
      "Schedule loaded: 1200 games\n"
     ]
    }
   ],
   "source": [
    "# Load the schedule from your CSV file\n",
    "nba_data.load_schedule('nbaSchedule2425.csv')  # Replace with your actual CSV path"
   ]
  },
  {
   "cell_type": "code",
   "execution_count": 72,
   "id": "7e7b0f2a-5567-444f-9f3c-9a9aae662188",
   "metadata": {
    "scrolled": true
   },
   "outputs": [],
   "source": [
    "# Display the full schedule\n",
    "schedule_df = nba_data.get_full_schedule()"
   ]
  },
  {
   "cell_type": "markdown",
   "id": "8b6d57c2-e834-4ff4-a754-fa047beb8b4d",
   "metadata": {},
   "source": [
    "# Today's Games"
   ]
  },
  {
   "cell_type": "code",
   "execution_count": 73,
   "id": "faea3839-0467-41bd-92ae-d463b22bb714",
   "metadata": {},
   "outputs": [],
   "source": [
    "#today_date = (\"2024-10-22\")\n",
    "today_date = datetime.datetime.today().strftime('%Y-%m-%d')\n",
    "game_date = today_date\n",
    "# Retrieve today's games\n",
    "todays_games = nba_data.get_todays_games(today_date) # Use today_date when in season"
   ]
  },
  {
   "cell_type": "markdown",
   "id": "745ffcdb-4c50-4881-ae0a-9196030e6773",
   "metadata": {},
   "source": [
    "## Fetch and Cache Previous Season Player Data"
   ]
  },
  {
   "cell_type": "code",
   "execution_count": 61,
   "id": "fa848366-39d5-4898-9819-a5372c36821c",
   "metadata": {},
   "outputs": [
    {
     "name": "stdout",
     "output_type": "stream",
     "text": [
      "Fetching data for Game ID 22400113: Home: BKN, Away: DEN for 2023-24\n",
      "Fetched 2023-24 season data for home team BKN\n",
      "Fetched 2023-24 season data for away team DEN\n",
      "Data cached as game_22400113_home_team_BKN_prev.joblib in cached_data\\2024-10-29\n",
      "Data cached as game_22400113_away_team_DEN_prev.joblib in cached_data\\2024-10-29\n",
      "Cached data for Game ID 22400113: Home: BKN, Away: DEN for 2023-24\n",
      "Fetching data for Game ID 22400114: Home: MIN, Away: DAL for 2023-24\n",
      "Fetched 2023-24 season data for home team MIN\n",
      "Fetched 2023-24 season data for away team DAL\n",
      "Data cached as game_22400114_home_team_MIN_prev.joblib in cached_data\\2024-10-29\n",
      "Data cached as game_22400114_away_team_DAL_prev.joblib in cached_data\\2024-10-29\n",
      "Cached data for Game ID 22400114: Home: MIN, Away: DAL for 2023-24\n",
      "Fetching data for Game ID 22400115: Home: UTA, Away: SAC for 2023-24\n",
      "Fetched 2023-24 season data for home team UTA\n",
      "Fetched 2023-24 season data for away team SAC\n",
      "Data cached as game_22400115_home_team_UTA_prev.joblib in cached_data\\2024-10-29\n",
      "Data cached as game_22400115_away_team_SAC_prev.joblib in cached_data\\2024-10-29\n",
      "Cached data for Game ID 22400115: Home: UTA, Away: SAC for 2023-24\n",
      "Fetching data for Game ID 22400116: Home: GSW, Away: NOP for 2023-24\n",
      "Fetched 2023-24 season data for home team GSW\n",
      "Fetched 2023-24 season data for away team NOP\n",
      "Data cached as game_22400116_home_team_GSW_prev.joblib in cached_data\\2024-10-29\n",
      "Data cached as game_22400116_away_team_NOP_prev.joblib in cached_data\\2024-10-29\n",
      "Cached data for Game ID 22400116: Home: GSW, Away: NOP for 2023-24\n"
     ]
    }
   ],
   "source": [
    "pause_time = 10\n",
    "\n",
    "# Loop through each game in 'todays_games'\n",
    "for index, game in todays_games.iterrows():\n",
    "    game_id = game['Game ID']\n",
    "    home_team_abbr = game['Home Team Abbreviation']\n",
    "    away_team_abbr = game['Visiting Team Abbreviation']\n",
    "    game_date = game['Game Date']  # Game date in 'YYYY-MM-DD' format\n",
    "    season = \"2023-24\"  # Set to the previous season\n",
    "\n",
    "    print(f\"Fetching data for Game ID {game_id}: Home: {home_team_abbr}, Away: {away_team_abbr} for {season}\")\n",
    "    \n",
    "    # Fetch home team stats for the 2023-24 season\n",
    "    try:\n",
    "        home_team_stats = nba_data.fetch_player_stats_single_team(home_team_abbr, season)\n",
    "        print(f\"Fetched 2023-24 season data for home team {home_team_abbr}\")\n",
    "    except Exception as e:\n",
    "        print(f\"Error fetching 2023-24 season data for home team {home_team_abbr}: {e}\")\n",
    "        home_team_stats = pd.DataFrame()  # Return an empty DataFrame if an error occurs\n",
    "\n",
    "    # Pause to avoid hitting API rate limits\n",
    "    time.sleep(pause_time)\n",
    "    \n",
    "    # Fetch away team stats for the 2023-24 season\n",
    "    try:\n",
    "        away_team_stats = nba_data.fetch_player_stats_single_team(away_team_abbr, season)\n",
    "        print(f\"Fetched 2023-24 season data for away team {away_team_abbr}\")\n",
    "    except Exception as e:\n",
    "        print(f\"Error fetching 2023-24 season data for away team {away_team_abbr}: {e}\")\n",
    "        away_team_stats = pd.DataFrame()  # Return an empty DataFrame if an error occurs\n",
    "\n",
    "    # Pause to avoid hitting API rate limits\n",
    "    time.sleep(pause_time)\n",
    "    \n",
    "    # Cache the home and away team stats for the 2023-24 season, organized by game date with the new file naming format\n",
    "    cache_manager.cache_data(home_team_stats, f\"game_{game_id}_home_team_{home_team_abbr}_prev\", game_date)\n",
    "    cache_manager.cache_data(away_team_stats, f\"game_{game_id}_away_team_{away_team_abbr}_prev\", game_date)\n",
    "\n",
    "    print(f\"Cached data for Game ID {game_id}: Home: {home_team_abbr}, Away: {away_team_abbr} for {season}\")"
   ]
  },
  {
   "cell_type": "markdown",
   "id": "c06374f8-568a-46ac-9184-cb30469dd7e3",
   "metadata": {},
   "source": [
    "## Fetch and Cache Current Season Player Data"
   ]
  },
  {
   "cell_type": "code",
   "execution_count": 62,
   "id": "a15d08f2-9284-471d-a8e0-ec60c298dff5",
   "metadata": {},
   "outputs": [
    {
     "name": "stdout",
     "output_type": "stream",
     "text": [
      "Fetching data for Game ID 22400113: Home: BKN, Away: DEN for 2024-25\n",
      "Fetched current season data for home team BKN\n",
      "Fetched current season data for away team DEN\n",
      "Data cached as game_22400113_home_team_BKN_curr.joblib in cached_data\\2024-10-29\n",
      "Data cached as game_22400113_away_team_DEN_curr.joblib in cached_data\\2024-10-29\n",
      "Cached data for Game ID 22400113: Home: BKN, Away: DEN for 2024-25\n",
      "Fetching data for Game ID 22400114: Home: MIN, Away: DAL for 2024-25\n",
      "Fetched current season data for home team MIN\n",
      "Fetched current season data for away team DAL\n",
      "Data cached as game_22400114_home_team_MIN_curr.joblib in cached_data\\2024-10-29\n",
      "Data cached as game_22400114_away_team_DAL_curr.joblib in cached_data\\2024-10-29\n",
      "Cached data for Game ID 22400114: Home: MIN, Away: DAL for 2024-25\n",
      "Fetching data for Game ID 22400115: Home: UTA, Away: SAC for 2024-25\n",
      "Fetched current season data for home team UTA\n",
      "Fetched current season data for away team SAC\n",
      "Data cached as game_22400115_home_team_UTA_curr.joblib in cached_data\\2024-10-29\n",
      "Data cached as game_22400115_away_team_SAC_curr.joblib in cached_data\\2024-10-29\n",
      "Cached data for Game ID 22400115: Home: UTA, Away: SAC for 2024-25\n",
      "Fetching data for Game ID 22400116: Home: GSW, Away: NOP for 2024-25\n",
      "Fetched current season data for home team GSW\n",
      "Fetched current season data for away team NOP\n",
      "Data cached as game_22400116_home_team_GSW_curr.joblib in cached_data\\2024-10-29\n",
      "Data cached as game_22400116_away_team_NOP_curr.joblib in cached_data\\2024-10-29\n",
      "Cached data for Game ID 22400116: Home: GSW, Away: NOP for 2024-25\n"
     ]
    }
   ],
   "source": [
    "# Loop through each game in 'todays_games'\n",
    "for index, game in todays_games.iterrows():\n",
    "    game_id = game['Game ID']\n",
    "    home_team_abbr = game['Home Team Abbreviation']\n",
    "    away_team_abbr = game['Visiting Team Abbreviation']\n",
    "    game_date = game['Game Date']  # Game date in 'YYYY-MM-DD' format\n",
    "    \n",
    "    # Handle only the current season\n",
    "    current_season = \"2024-25\"\n",
    "\n",
    "    print(f\"Fetching data for Game ID {game_id}: Home: {home_team_abbr}, Away: {away_team_abbr} for {current_season}\")\n",
    "    \n",
    "    # Fetch home team stats for current season (expecting null values)\n",
    "    try:\n",
    "        home_team_stats = nba_data.fetch_player_stats_single_team(home_team_abbr, current_season)\n",
    "        if home_team_stats.empty:\n",
    "            raise ValueError(\"No data for the current season\")\n",
    "        print(f\"Fetched current season data for home team {home_team_abbr}\")\n",
    "    except Exception as e:\n",
    "        print(f\"No data available for current season for home team {home_team_abbr}: {e}\")\n",
    "        # Fill with NaN values since no current season data is available\n",
    "        home_team_stats = pd.DataFrame(columns=[\"PLAYER\", \"PLAYER_ID\", \"SEASON_ID\", \"PTS\", \"AST\", \"REB\", \"etc...\"])\n",
    "\n",
    "    # Pause to avoid hitting API rate limits\n",
    "    time.sleep(pause_time)\n",
    "    \n",
    "    # Fetch away team stats for current season (expecting null values)\n",
    "    try:\n",
    "        away_team_stats = nba_data.fetch_player_stats_single_team(away_team_abbr, current_season)\n",
    "        if away_team_stats.empty:\n",
    "            raise ValueError(\"No data for the current season\")\n",
    "        print(f\"Fetched current season data for away team {away_team_abbr}\")\n",
    "    except Exception as e:\n",
    "        print(f\"No data available for current season for away team {away_team_abbr}: {e}\")\n",
    "        # Fill with NaN values since no current season data is available\n",
    "        away_team_stats = pd.DataFrame(columns=[\"PLAYER\", \"PLAYER_ID\", \"SEASON_ID\", \"PTS\", \"AST\", \"REB\", \"etc...\"])\n",
    "\n",
    "    # Pause to avoid hitting API rate limits\n",
    "    time.sleep(pause_time)\n",
    "    \n",
    "    # Cache the home and away team stats for the 2023-24 season, organized by game date with the new file naming format\n",
    "    cache_manager.cache_data(home_team_stats, f\"game_{game_id}_home_team_{home_team_abbr}_curr\", game_date)\n",
    "    cache_manager.cache_data(away_team_stats, f\"game_{game_id}_away_team_{away_team_abbr}_curr\", game_date)\n",
    "\n",
    "    print(f\"Cached data for Game ID {game_id}: Home: {home_team_abbr}, Away: {away_team_abbr} for {current_season}\")"
   ]
  },
  {
   "cell_type": "markdown",
   "id": "4deaae73-71d0-4c28-a960-1512bff7b15f",
   "metadata": {},
   "source": [
    "## Fetch and Cache Team Stats "
   ]
  },
  {
   "cell_type": "code",
   "execution_count": 63,
   "id": "b286f7e4-e519-4994-b2b6-f106cfb36574",
   "metadata": {},
   "outputs": [
    {
     "name": "stdout",
     "output_type": "stream",
     "text": [
      "Team Season Ranks Columns: Index(['LEAGUE_ID', 'SEASON_ID', 'TEAM_ID', 'PTS_RANK', 'PTS_PG', 'REB_RANK',\n",
      "       'REB_PG', 'AST_RANK', 'AST_PG', 'OPP_PTS_RANK', 'OPP_PTS_PG'],\n",
      "      dtype='object')\n",
      "Team Season Ranks Columns: Index(['LEAGUE_ID', 'SEASON_ID', 'TEAM_ID', 'PTS_RANK', 'PTS_PG', 'REB_RANK',\n",
      "       'REB_PG', 'AST_RANK', 'AST_PG', 'OPP_PTS_RANK', 'OPP_PTS_PG'],\n",
      "      dtype='object')\n",
      "Team Season Ranks Columns: Index(['LEAGUE_ID', 'SEASON_ID', 'TEAM_ID', 'PTS_RANK', 'PTS_PG', 'REB_RANK',\n",
      "       'REB_PG', 'AST_RANK', 'AST_PG', 'OPP_PTS_RANK', 'OPP_PTS_PG'],\n",
      "      dtype='object')\n",
      "Team Season Ranks Columns: Index(['LEAGUE_ID', 'SEASON_ID', 'TEAM_ID', 'PTS_RANK', 'PTS_PG', 'REB_RANK',\n",
      "       'REB_PG', 'AST_RANK', 'AST_PG', 'OPP_PTS_RANK', 'OPP_PTS_PG'],\n",
      "      dtype='object')\n",
      "Team Season Ranks Columns: Index(['LEAGUE_ID', 'SEASON_ID', 'TEAM_ID', 'PTS_RANK', 'PTS_PG', 'REB_RANK',\n",
      "       'REB_PG', 'AST_RANK', 'AST_PG', 'OPP_PTS_RANK', 'OPP_PTS_PG'],\n",
      "      dtype='object')\n",
      "Team Season Ranks Columns: Index(['LEAGUE_ID', 'SEASON_ID', 'TEAM_ID', 'PTS_RANK', 'PTS_PG', 'REB_RANK',\n",
      "       'REB_PG', 'AST_RANK', 'AST_PG', 'OPP_PTS_RANK', 'OPP_PTS_PG'],\n",
      "      dtype='object')\n",
      "Team Season Ranks Columns: Index(['LEAGUE_ID', 'SEASON_ID', 'TEAM_ID', 'PTS_RANK', 'PTS_PG', 'REB_RANK',\n",
      "       'REB_PG', 'AST_RANK', 'AST_PG', 'OPP_PTS_RANK', 'OPP_PTS_PG'],\n",
      "      dtype='object')\n",
      "Team Season Ranks Columns: Index(['LEAGUE_ID', 'SEASON_ID', 'TEAM_ID', 'PTS_RANK', 'PTS_PG', 'REB_RANK',\n",
      "       'REB_PG', 'AST_RANK', 'AST_PG', 'OPP_PTS_RANK', 'OPP_PTS_PG'],\n",
      "      dtype='object')\n",
      "Team Season Ranks Columns: Index(['LEAGUE_ID', 'SEASON_ID', 'TEAM_ID', 'PTS_RANK', 'PTS_PG', 'REB_RANK',\n",
      "       'REB_PG', 'AST_RANK', 'AST_PG', 'OPP_PTS_RANK', 'OPP_PTS_PG'],\n",
      "      dtype='object')\n",
      "Team Season Ranks Columns: Index(['LEAGUE_ID', 'SEASON_ID', 'TEAM_ID', 'PTS_RANK', 'PTS_PG', 'REB_RANK',\n",
      "       'REB_PG', 'AST_RANK', 'AST_PG', 'OPP_PTS_RANK', 'OPP_PTS_PG'],\n",
      "      dtype='object')\n",
      "Team Season Ranks Columns: Index(['LEAGUE_ID', 'SEASON_ID', 'TEAM_ID', 'PTS_RANK', 'PTS_PG', 'REB_RANK',\n",
      "       'REB_PG', 'AST_RANK', 'AST_PG', 'OPP_PTS_RANK', 'OPP_PTS_PG'],\n",
      "      dtype='object')\n",
      "Team Season Ranks Columns: Index(['LEAGUE_ID', 'SEASON_ID', 'TEAM_ID', 'PTS_RANK', 'PTS_PG', 'REB_RANK',\n",
      "       'REB_PG', 'AST_RANK', 'AST_PG', 'OPP_PTS_RANK', 'OPP_PTS_PG'],\n",
      "      dtype='object')\n",
      "Team Season Ranks Columns: Index(['LEAGUE_ID', 'SEASON_ID', 'TEAM_ID', 'PTS_RANK', 'PTS_PG', 'REB_RANK',\n",
      "       'REB_PG', 'AST_RANK', 'AST_PG', 'OPP_PTS_RANK', 'OPP_PTS_PG'],\n",
      "      dtype='object')\n",
      "Team Season Ranks Columns: Index(['LEAGUE_ID', 'SEASON_ID', 'TEAM_ID', 'PTS_RANK', 'PTS_PG', 'REB_RANK',\n",
      "       'REB_PG', 'AST_RANK', 'AST_PG', 'OPP_PTS_RANK', 'OPP_PTS_PG'],\n",
      "      dtype='object')\n",
      "Team Season Ranks Columns: Index(['LEAGUE_ID', 'SEASON_ID', 'TEAM_ID', 'PTS_RANK', 'PTS_PG', 'REB_RANK',\n",
      "       'REB_PG', 'AST_RANK', 'AST_PG', 'OPP_PTS_RANK', 'OPP_PTS_PG'],\n",
      "      dtype='object')\n",
      "Team Season Ranks Columns: Index(['LEAGUE_ID', 'SEASON_ID', 'TEAM_ID', 'PTS_RANK', 'PTS_PG', 'REB_RANK',\n",
      "       'REB_PG', 'AST_RANK', 'AST_PG', 'OPP_PTS_RANK', 'OPP_PTS_PG'],\n",
      "      dtype='object')\n"
     ]
    }
   ],
   "source": [
    "# Call the existing function to get the compiled team stats for today's games\n",
    "team_stats_today = nba_data.get_team_stats_today_games(date=today_date)\n",
    "\n",
    "all_games_list = []"
   ]
  },
  {
   "cell_type": "code",
   "execution_count": 64,
   "id": "a555fd5e-03fd-4c2b-908b-513735ed980a",
   "metadata": {},
   "outputs": [
    {
     "name": "stdout",
     "output_type": "stream",
     "text": [
      "Data cached as game_22400113_home_team_BKN_prev_team_stats.joblib in cached_data\\2024-10-29\n",
      "Data cached as game_22400113_home_team_BKN_curr_team_stats.joblib in cached_data\\2024-10-29\n",
      "Data cached as game_22400113_away_team_DEN_prev_team_stats.joblib in cached_data\\2024-10-29\n",
      "Data cached as game_22400113_away_team_DEN_curr_team_stats.joblib in cached_data\\2024-10-29\n",
      "Cached team stats for Game ID 22400113: Home: BKN, Away: DEN\n",
      "Data cached as game_22400114_home_team_MIN_prev_team_stats.joblib in cached_data\\2024-10-29\n",
      "Data cached as game_22400114_home_team_MIN_curr_team_stats.joblib in cached_data\\2024-10-29\n",
      "Data cached as game_22400114_away_team_DAL_prev_team_stats.joblib in cached_data\\2024-10-29\n",
      "Data cached as game_22400114_away_team_DAL_curr_team_stats.joblib in cached_data\\2024-10-29\n",
      "Cached team stats for Game ID 22400114: Home: MIN, Away: DAL\n",
      "Data cached as game_22400115_home_team_UTA_prev_team_stats.joblib in cached_data\\2024-10-29\n",
      "Data cached as game_22400115_home_team_UTA_curr_team_stats.joblib in cached_data\\2024-10-29\n",
      "Data cached as game_22400115_away_team_SAC_prev_team_stats.joblib in cached_data\\2024-10-29\n",
      "Data cached as game_22400115_away_team_SAC_curr_team_stats.joblib in cached_data\\2024-10-29\n",
      "Cached team stats for Game ID 22400115: Home: UTA, Away: SAC\n",
      "Data cached as game_22400116_home_team_GSW_prev_team_stats.joblib in cached_data\\2024-10-29\n",
      "Data cached as game_22400116_home_team_GSW_curr_team_stats.joblib in cached_data\\2024-10-29\n",
      "Data cached as game_22400116_away_team_NOP_prev_team_stats.joblib in cached_data\\2024-10-29\n",
      "Data cached as game_22400116_away_team_NOP_curr_team_stats.joblib in cached_data\\2024-10-29\n",
      "Cached team stats for Game ID 22400116: Home: GSW, Away: NOP\n"
     ]
    }
   ],
   "source": [
    "# Loop through the games in the dictionary to pair up home and away stats\n",
    "for game_id, team_stats in team_stats_today.items():\n",
    "    # Extract the stats for home and away teams for both previous and current seasons\n",
    "    home_previous_stats = team_stats['home_previous_season']\n",
    "    home_current_stats = team_stats['home_current_season']\n",
    "    away_previous_stats = team_stats['away_previous_season']\n",
    "    away_current_stats = team_stats['away_current_season']\n",
    "    \n",
    "    # If the DataFrame is not empty, add a 'Game ID' column for tracking\n",
    "    if not home_previous_stats.empty:\n",
    "        home_previous_stats['Game_ID'] = game_id\n",
    "    if not home_current_stats.empty:\n",
    "        home_current_stats['Game_ID'] = game_id\n",
    "    if not away_previous_stats.empty:\n",
    "        away_previous_stats['Game_ID'] = game_id\n",
    "    if not away_current_stats.empty:\n",
    "        away_current_stats['Game_ID'] = game_id\n",
    "\n",
    "    # Get team abbreviations for file naming\n",
    "    home_team_abbr = home_previous_stats.iloc[0]['TEAM_ABBREVIATION'] if not home_previous_stats.empty else \"unknown\"\n",
    "    away_team_abbr = away_previous_stats.iloc[0]['TEAM_ABBREVIATION'] if not away_previous_stats.empty else \"unknown\"\n",
    "\n",
    "    # Cache home team stats (previous and current season)\n",
    "    if not home_previous_stats.empty:\n",
    "        cache_manager.cache_data(home_previous_stats, f\"game_{game_id}_home_team_{home_team_abbr}_prev_team_stats\", today_date)\n",
    "    if not home_current_stats.empty:\n",
    "        cache_manager.cache_data(home_current_stats, f\"game_{game_id}_home_team_{home_team_abbr}_curr_team_stats\", today_date)\n",
    "\n",
    "    # Cache away team stats (previous and current season)\n",
    "    if not away_previous_stats.empty:\n",
    "        cache_manager.cache_data(away_previous_stats, f\"game_{game_id}_away_team_{away_team_abbr}_prev_team_stats\", today_date)\n",
    "    if not away_current_stats.empty:\n",
    "        cache_manager.cache_data(away_current_stats, f\"game_{game_id}_away_team_{away_team_abbr}_curr_team_stats\", today_date)\n",
    "\n",
    "    print(f\"Cached team stats for Game ID {game_id}: Home: {home_team_abbr}, Away: {away_team_abbr}\")"
   ]
  },
  {
   "cell_type": "code",
   "execution_count": null,
   "id": "b9643ed4-4579-4135-a2b3-6851587722be",
   "metadata": {},
   "outputs": [],
   "source": []
  }
 ],
 "metadata": {
  "kernelspec": {
   "display_name": "bball",
   "language": "python",
   "name": "bball"
  },
  "language_info": {
   "codemirror_mode": {
    "name": "ipython",
    "version": 3
   },
   "file_extension": ".py",
   "mimetype": "text/x-python",
   "name": "python",
   "nbconvert_exporter": "python",
   "pygments_lexer": "ipython3",
   "version": "3.10.13"
  }
 },
 "nbformat": 4,
 "nbformat_minor": 5
}
